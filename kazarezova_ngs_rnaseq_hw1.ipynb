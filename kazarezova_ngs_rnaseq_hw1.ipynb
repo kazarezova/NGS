{
  "nbformat": 4,
  "nbformat_minor": 0,
  "metadata": {
    "colab": {
      "provenance": [],
      "collapsed_sections": []
    },
    "kernelspec": {
      "name": "python3",
      "display_name": "Python 3"
    },
    "language_info": {
      "name": "python"
    }
  },
  "cells": [
    {
      "cell_type": "markdown",
      "source": [
        "1. Найдите в интернете и скачайте fastqc. Проверьте все входные данные при помощи fastqc"
      ],
      "metadata": {
        "id": "7Y0pbjzcf39j"
      }
    },
    {
      "cell_type": "code",
      "source": [
        "from google.colab import drive\n",
        "drive.mount('/content/drive')"
      ],
      "metadata": {
        "colab": {
          "base_uri": "https://localhost:8080/"
        },
        "id": "GEhsk0VFt__M",
        "outputId": "3399e874-65d5-48a5-f07a-3e80576e9ec8"
      },
      "execution_count": 1,
      "outputs": [
        {
          "output_type": "stream",
          "name": "stdout",
          "text": [
            "Mounted at /content/drive\n"
          ]
        }
      ]
    },
    {
      "cell_type": "code",
      "source": [
        "!pip install -q condacolab\n",
        "import condacolab\n",
        "condacolab.install()\n",
        "!conda install -y -c bioconda fastqc"
      ],
      "metadata": {
        "colab": {
          "base_uri": "https://localhost:8080/"
        },
        "id": "4lFgdPb8gEP2",
        "outputId": "bbd69c32-63b0-4380-d041-85650d767a2b"
      },
      "execution_count": 1,
      "outputs": [
        {
          "output_type": "stream",
          "name": "stdout",
          "text": [
            "⏬ Downloading https://github.com/jaimergp/miniforge/releases/latest/download/Mambaforge-colab-Linux-x86_64.sh...\n",
            "📦 Installing...\n",
            "📌 Adjusting configuration...\n",
            "🩹 Patching environment...\n",
            "⏲ Done in 0:00:43\n",
            "🔁 Restarting kernel...\n",
            "Collecting package metadata (current_repodata.json): - \b\b\\ \b\b| \b\b/ \b\b- \b\b\\ \b\b| \b\b/ \b\b- \b\b\\ \b\b| \b\b/ \b\b- \b\b\\ \b\b| \b\b/ \b\b- \b\b\\ \b\b| \b\b/ \b\b- \b\b\\ \b\b| \b\b/ \b\b- \b\b\\ \b\b| \b\b/ \b\b- \b\b\\ \b\b| \b\b/ \b\b- \b\b\\ \b\b| \b\b/ \b\b- \b\b\\ \b\b| \b\b/ \b\b- \b\b\\ \b\b| \b\b/ \b\b- \b\b\\ \b\b| \b\b/ \b\b- \b\b\\ \b\b| \b\b/ \b\b- \b\b\\ \b\b| \b\b/ \b\b- \b\b\\ \b\b| \b\b/ \b\b- \b\b\\ \b\b| \b\b/ \b\b- \b\b\\ \b\b| \b\b/ \b\b- \b\b\\ \b\b| \b\b/ \b\b- \b\b\\ \b\b| \b\b/ \b\b- \b\b\\ \b\b| \b\b/ \b\b- \b\b\\ \b\b| \b\b/ \b\b- \b\b\\ \b\b| \b\b/ \b\b- \b\b\\ \b\b| \b\b/ \b\b- \b\b\\ \b\b| \b\b/ \b\b- \b\b\\ \b\b| \b\b/ \b\b- \b\b\\ \b\b| \b\b/ \b\b- \b\b\\ \b\b| \b\b/ \b\b- \b\b\\ \b\b| \b\b/ \b\b- \b\b\\ \b\b| \b\b/ \b\b- \b\b\\ \b\b| \b\b/ \b\b- \b\b\\ \b\b| \b\b/ \b\b- \b\b\\ \b\b| \b\b/ \b\b- \b\b\\ \b\b| \b\b/ \b\b- \b\b\\ \b\b| \b\b/ \b\b- \b\b\\ \b\b| \b\b/ \b\b- \b\b\\ \b\b| \b\b/ \b\b- \b\b\\ \b\b| \b\b/ \b\b- \b\b\\ \b\b| \b\b/ \b\b- \b\b\\ \b\b| \b\b/ \b\b- \b\b\\ \b\b| \b\b/ \b\b- \b\b\\ \b\b| \b\b/ \b\b- \b\b\\ \b\b| \b\b/ \b\b- \b\b\\ \b\b| \b\b/ \b\b- \b\b\\ \b\b| \b\b/ \b\b- \b\b\\ \b\b| \b\b/ \b\b- \b\b\\ \b\b| \b\b/ \b\b- \b\b\\ \b\b| \b\b/ \b\b- \b\b\\ \b\b| \b\b/ \b\b- \b\b\\ \b\b| \b\b/ \b\b- \b\b\\ \b\b| \b\b/ \b\b- \b\b\\ \b\b| \b\b/ \b\b- \b\b\\ \b\b| \b\b/ \b\b- \b\b\\ \b\b| \b\b/ \b\b- \b\b\\ \b\b| \b\bdone\n",
            "Solving environment: - \b\b\\ \b\b| \b\b/ \b\b- \b\b\\ \b\b| \b\b/ \b\b- \b\b\\ \b\b| \b\b/ \b\b- \b\b\\ \b\b| \b\b/ \b\b- \b\b\\ \b\b| \b\b/ \b\b- \b\b\\ \b\b| \b\b/ \b\bdone\n",
            "\n",
            "## Package Plan ##\n",
            "\n",
            "  environment location: /usr/local\n",
            "\n",
            "  added / updated specs:\n",
            "    - fastqc\n",
            "\n",
            "\n",
            "The following packages will be downloaded:\n",
            "\n",
            "    package                    |            build\n",
            "    ---------------------------|-----------------\n",
            "    ca-certificates-2022.9.24  |       ha878542_0         150 KB  conda-forge\n",
            "    certifi-2022.9.24          |     pyhd8ed1ab_0         155 KB  conda-forge\n",
            "    conda-22.9.0               |   py37h89c1867_1         960 KB  conda-forge\n",
            "    fastqc-0.11.8              |                0         9.6 MB  bioconda\n",
            "    openjdk-8.0.332            |       h166bdaf_0        97.8 MB  conda-forge\n",
            "    openssl-1.1.1s             |       h166bdaf_0         2.1 MB  conda-forge\n",
            "    perl-5.32.1                | 2_h7f98852_perl5        14.4 MB  conda-forge\n",
            "    ------------------------------------------------------------\n",
            "                                           Total:       125.2 MB\n",
            "\n",
            "The following NEW packages will be INSTALLED:\n",
            "\n",
            "  fastqc             bioconda/linux-64::fastqc-0.11.8-0\n",
            "  openjdk            conda-forge/linux-64::openjdk-8.0.332-h166bdaf_0\n",
            "  perl               conda-forge/linux-64::perl-5.32.1-2_h7f98852_perl5\n",
            "\n",
            "The following packages will be UPDATED:\n",
            "\n",
            "  ca-certificates                      2022.6.15-ha878542_0 --> 2022.9.24-ha878542_0\n",
            "  certifi            conda-forge/linux-64::certifi-2022.6.~ --> conda-forge/noarch::certifi-2022.9.24-pyhd8ed1ab_0\n",
            "  conda                               4.14.0-py37h89c1867_0 --> 22.9.0-py37h89c1867_1\n",
            "  openssl                                 1.1.1q-h166bdaf_0 --> 1.1.1s-h166bdaf_0\n",
            "\n",
            "\n",
            "\n",
            "Downloading and Extracting Packages\n",
            "perl-5.32.1          | 14.4 MB   | : 100% 1.0/1 [00:07<00:00,  7.16s/it]               \n",
            "fastqc-0.11.8        | 9.6 MB    | : 100% 1.0/1 [00:02<00:00,  2.18s/it]               \n",
            "certifi-2022.9.24    | 155 KB    | : 100% 1.0/1 [00:00<00:00, 16.60it/s]\n",
            "conda-22.9.0         | 960 KB    | : 100% 1.0/1 [00:00<00:00,  1.78it/s]\n",
            "ca-certificates-2022 | 150 KB    | : 100% 1.0/1 [00:00<00:00, 15.07it/s]\n",
            "openssl-1.1.1s       | 2.1 MB    | : 100% 1.0/1 [00:00<00:00,  1.70it/s]\n",
            "openjdk-8.0.332      | 97.8 MB   | : 100% 1.0/1 [00:29<00:00, 29.27s/it]              \n",
            "Preparing transaction: \\ \b\b| \b\bdone\n",
            "Verifying transaction: - \b\b\\ \b\b| \b\b/ \b\b- \b\b\\ \b\b| \b\b/ \b\b- \b\b\\ \b\bdone\n",
            "Executing transaction: / \b\b- \b\b\\ \b\b| \b\b/ \b\b- \b\b\\ \b\b| \b\b/ \b\b- \b\b\\ \b\b| \b\b/ \b\b- \b\b\\ \b\b| \b\b/ \b\b- \b\b\\ \b\b| \b\b/ \b\b- \b\b\\ \b\bdone\n",
            "Retrieving notices: ...working... done\n"
          ]
        }
      ]
    },
    {
      "cell_type": "code",
      "source": [
        "!mkdir fastqc\n",
        "!fastqc -o fastqc ./drive/MyDrive/NGS/rna.seq.data/*"
      ],
      "metadata": {
        "colab": {
          "base_uri": "https://localhost:8080/"
        },
        "id": "XUrw-lNBpyR8",
        "outputId": "cb4dae93-43ab-43b6-94e1-a65c7117c912"
      },
      "execution_count": 3,
      "outputs": [
        {
          "output_type": "stream",
          "name": "stdout",
          "text": [
            "Started analysis of B14.5.fq.gz\n",
            "Approx 5% complete for B14.5.fq.gz\n",
            "Approx 10% complete for B14.5.fq.gz\n",
            "Approx 15% complete for B14.5.fq.gz\n",
            "Approx 20% complete for B14.5.fq.gz\n",
            "Approx 25% complete for B14.5.fq.gz\n",
            "Approx 30% complete for B14.5.fq.gz\n",
            "Approx 35% complete for B14.5.fq.gz\n",
            "Approx 40% complete for B14.5.fq.gz\n",
            "Approx 45% complete for B14.5.fq.gz\n",
            "Approx 50% complete for B14.5.fq.gz\n",
            "Approx 55% complete for B14.5.fq.gz\n",
            "Approx 60% complete for B14.5.fq.gz\n",
            "Approx 65% complete for B14.5.fq.gz\n",
            "Approx 70% complete for B14.5.fq.gz\n",
            "Approx 75% complete for B14.5.fq.gz\n",
            "Approx 80% complete for B14.5.fq.gz\n",
            "Approx 85% complete for B14.5.fq.gz\n",
            "Approx 90% complete for B14.5.fq.gz\n",
            "Approx 95% complete for B14.5.fq.gz\n",
            "Analysis complete for B14.5.fq.gz\n",
            "Started analysis of B15.5.fq.gz\n",
            "Approx 5% complete for B15.5.fq.gz\n",
            "Approx 10% complete for B15.5.fq.gz\n",
            "Approx 15% complete for B15.5.fq.gz\n",
            "Approx 20% complete for B15.5.fq.gz\n",
            "Approx 25% complete for B15.5.fq.gz\n",
            "Approx 30% complete for B15.5.fq.gz\n",
            "Approx 35% complete for B15.5.fq.gz\n",
            "Approx 40% complete for B15.5.fq.gz\n",
            "Approx 45% complete for B15.5.fq.gz\n",
            "Approx 50% complete for B15.5.fq.gz\n",
            "Approx 55% complete for B15.5.fq.gz\n",
            "Approx 60% complete for B15.5.fq.gz\n",
            "Approx 65% complete for B15.5.fq.gz\n",
            "Approx 70% complete for B15.5.fq.gz\n",
            "Approx 75% complete for B15.5.fq.gz\n",
            "Approx 80% complete for B15.5.fq.gz\n",
            "Approx 85% complete for B15.5.fq.gz\n",
            "Approx 90% complete for B15.5.fq.gz\n",
            "Approx 95% complete for B15.5.fq.gz\n",
            "Analysis complete for B15.5.fq.gz\n",
            "Started analysis of B17.5.fq.gz\n",
            "Approx 5% complete for B17.5.fq.gz\n",
            "Approx 10% complete for B17.5.fq.gz\n",
            "Approx 15% complete for B17.5.fq.gz\n",
            "Approx 20% complete for B17.5.fq.gz\n",
            "Approx 25% complete for B17.5.fq.gz\n",
            "Approx 30% complete for B17.5.fq.gz\n",
            "Approx 35% complete for B17.5.fq.gz\n",
            "Approx 40% complete for B17.5.fq.gz\n",
            "Approx 45% complete for B17.5.fq.gz\n",
            "Approx 50% complete for B17.5.fq.gz\n",
            "Approx 55% complete for B17.5.fq.gz\n",
            "Approx 60% complete for B17.5.fq.gz\n",
            "Approx 65% complete for B17.5.fq.gz\n",
            "Approx 70% complete for B17.5.fq.gz\n",
            "Approx 75% complete for B17.5.fq.gz\n",
            "Approx 80% complete for B17.5.fq.gz\n",
            "Approx 85% complete for B17.5.fq.gz\n",
            "Approx 90% complete for B17.5.fq.gz\n",
            "Approx 95% complete for B17.5.fq.gz\n",
            "Approx 100% complete for B17.5.fq.gz\n",
            "Analysis complete for B17.5.fq.gz\n",
            "Started analysis of B20.fq.gz\n",
            "Approx 5% complete for B20.fq.gz\n",
            "Approx 10% complete for B20.fq.gz\n",
            "Approx 15% complete for B20.fq.gz\n",
            "Approx 20% complete for B20.fq.gz\n",
            "Approx 25% complete for B20.fq.gz\n",
            "Approx 30% complete for B20.fq.gz\n",
            "Approx 35% complete for B20.fq.gz\n",
            "Approx 40% complete for B20.fq.gz\n",
            "Approx 45% complete for B20.fq.gz\n",
            "Approx 50% complete for B20.fq.gz\n",
            "Approx 55% complete for B20.fq.gz\n",
            "Approx 60% complete for B20.fq.gz\n",
            "Approx 65% complete for B20.fq.gz\n",
            "Approx 70% complete for B20.fq.gz\n",
            "Approx 75% complete for B20.fq.gz\n",
            "Approx 80% complete for B20.fq.gz\n",
            "Approx 85% complete for B20.fq.gz\n",
            "Approx 90% complete for B20.fq.gz\n",
            "Approx 95% complete for B20.fq.gz\n",
            "Analysis complete for B20.fq.gz\n",
            "Started analysis of B34.fq.gz\n",
            "Approx 5% complete for B34.fq.gz\n",
            "Approx 10% complete for B34.fq.gz\n",
            "Approx 15% complete for B34.fq.gz\n",
            "Approx 20% complete for B34.fq.gz\n",
            "Approx 25% complete for B34.fq.gz\n",
            "Approx 30% complete for B34.fq.gz\n",
            "Approx 35% complete for B34.fq.gz\n",
            "Approx 40% complete for B34.fq.gz\n",
            "Approx 45% complete for B34.fq.gz\n",
            "Approx 50% complete for B34.fq.gz\n",
            "Approx 55% complete for B34.fq.gz\n",
            "Approx 60% complete for B34.fq.gz\n",
            "Approx 65% complete for B34.fq.gz\n",
            "Approx 70% complete for B34.fq.gz\n",
            "Approx 75% complete for B34.fq.gz\n",
            "Approx 80% complete for B34.fq.gz\n",
            "Approx 85% complete for B34.fq.gz\n",
            "Approx 90% complete for B34.fq.gz\n",
            "Approx 95% complete for B34.fq.gz\n",
            "Analysis complete for B34.fq.gz\n",
            "Started analysis of C14.5.fq.gz\n",
            "Approx 5% complete for C14.5.fq.gz\n",
            "Approx 10% complete for C14.5.fq.gz\n",
            "Approx 15% complete for C14.5.fq.gz\n",
            "Approx 20% complete for C14.5.fq.gz\n",
            "Approx 25% complete for C14.5.fq.gz\n",
            "Approx 30% complete for C14.5.fq.gz\n",
            "Approx 35% complete for C14.5.fq.gz\n",
            "Approx 40% complete for C14.5.fq.gz\n",
            "Approx 45% complete for C14.5.fq.gz\n",
            "Approx 50% complete for C14.5.fq.gz\n",
            "Approx 55% complete for C14.5.fq.gz\n",
            "Approx 60% complete for C14.5.fq.gz\n",
            "Approx 65% complete for C14.5.fq.gz\n",
            "Approx 70% complete for C14.5.fq.gz\n",
            "Approx 75% complete for C14.5.fq.gz\n",
            "Approx 80% complete for C14.5.fq.gz\n",
            "Approx 85% complete for C14.5.fq.gz\n",
            "Approx 90% complete for C14.5.fq.gz\n",
            "Approx 95% complete for C14.5.fq.gz\n",
            "Analysis complete for C14.5.fq.gz\n",
            "Started analysis of C15.5.fq.gz\n",
            "Approx 5% complete for C15.5.fq.gz\n",
            "Approx 10% complete for C15.5.fq.gz\n",
            "Approx 15% complete for C15.5.fq.gz\n",
            "Approx 20% complete for C15.5.fq.gz\n",
            "Approx 25% complete for C15.5.fq.gz\n",
            "Approx 30% complete for C15.5.fq.gz\n",
            "Approx 35% complete for C15.5.fq.gz\n",
            "Approx 40% complete for C15.5.fq.gz\n",
            "Approx 45% complete for C15.5.fq.gz\n",
            "Approx 50% complete for C15.5.fq.gz\n",
            "Approx 55% complete for C15.5.fq.gz\n",
            "Approx 60% complete for C15.5.fq.gz\n",
            "Approx 65% complete for C15.5.fq.gz\n",
            "Approx 70% complete for C15.5.fq.gz\n",
            "Approx 75% complete for C15.5.fq.gz\n",
            "Approx 80% complete for C15.5.fq.gz\n",
            "Approx 85% complete for C15.5.fq.gz\n",
            "Approx 90% complete for C15.5.fq.gz\n",
            "Approx 95% complete for C15.5.fq.gz\n",
            "Analysis complete for C15.5.fq.gz\n",
            "Started analysis of C17.5.fq.gz\n",
            "Approx 5% complete for C17.5.fq.gz\n",
            "Approx 10% complete for C17.5.fq.gz\n",
            "Approx 15% complete for C17.5.fq.gz\n",
            "Approx 20% complete for C17.5.fq.gz\n",
            "Approx 25% complete for C17.5.fq.gz\n",
            "Approx 30% complete for C17.5.fq.gz\n",
            "Approx 35% complete for C17.5.fq.gz\n",
            "Approx 40% complete for C17.5.fq.gz\n",
            "Approx 45% complete for C17.5.fq.gz\n",
            "Approx 50% complete for C17.5.fq.gz\n",
            "Approx 55% complete for C17.5.fq.gz\n",
            "Approx 60% complete for C17.5.fq.gz\n",
            "Approx 65% complete for C17.5.fq.gz\n",
            "Approx 70% complete for C17.5.fq.gz\n",
            "Approx 75% complete for C17.5.fq.gz\n",
            "Approx 80% complete for C17.5.fq.gz\n",
            "Approx 85% complete for C17.5.fq.gz\n",
            "Approx 90% complete for C17.5.fq.gz\n",
            "Approx 95% complete for C17.5.fq.gz\n",
            "Analysis complete for C17.5.fq.gz\n",
            "Started analysis of C20.fq.gz\n",
            "Approx 5% complete for C20.fq.gz\n",
            "Approx 10% complete for C20.fq.gz\n",
            "Approx 15% complete for C20.fq.gz\n",
            "Approx 20% complete for C20.fq.gz\n",
            "Approx 25% complete for C20.fq.gz\n",
            "Approx 30% complete for C20.fq.gz\n",
            "Approx 35% complete for C20.fq.gz\n",
            "Approx 40% complete for C20.fq.gz\n",
            "Approx 45% complete for C20.fq.gz\n",
            "Approx 50% complete for C20.fq.gz\n",
            "Approx 55% complete for C20.fq.gz\n",
            "Approx 60% complete for C20.fq.gz\n",
            "Approx 65% complete for C20.fq.gz\n",
            "Approx 70% complete for C20.fq.gz\n",
            "Approx 75% complete for C20.fq.gz\n",
            "Approx 80% complete for C20.fq.gz\n",
            "Approx 85% complete for C20.fq.gz\n",
            "Approx 90% complete for C20.fq.gz\n",
            "Approx 95% complete for C20.fq.gz\n",
            "Analysis complete for C20.fq.gz\n",
            "Started analysis of C34.fq.gz\n",
            "Approx 5% complete for C34.fq.gz\n",
            "Approx 10% complete for C34.fq.gz\n",
            "Approx 15% complete for C34.fq.gz\n",
            "Approx 20% complete for C34.fq.gz\n",
            "Approx 25% complete for C34.fq.gz\n",
            "Approx 30% complete for C34.fq.gz\n",
            "Approx 35% complete for C34.fq.gz\n",
            "Approx 40% complete for C34.fq.gz\n",
            "Approx 45% complete for C34.fq.gz\n",
            "Approx 50% complete for C34.fq.gz\n",
            "Approx 55% complete for C34.fq.gz\n",
            "Approx 60% complete for C34.fq.gz\n",
            "Approx 65% complete for C34.fq.gz\n",
            "Approx 70% complete for C34.fq.gz\n",
            "Approx 75% complete for C34.fq.gz\n",
            "Approx 80% complete for C34.fq.gz\n",
            "Approx 85% complete for C34.fq.gz\n",
            "Approx 90% complete for C34.fq.gz\n",
            "Approx 95% complete for C34.fq.gz\n",
            "Analysis complete for C34.fq.gz\n"
          ]
        }
      ]
    },
    {
      "cell_type": "code",
      "source": [
        "!conda install -c bioconda -c conda-forge multiqc"
      ],
      "metadata": {
        "colab": {
          "base_uri": "https://localhost:8080/"
        },
        "id": "h0NFQnLNqciF",
        "outputId": "124ef3c8-ad1b-41d3-f545-483ec20aad5c"
      },
      "execution_count": 4,
      "outputs": [
        {
          "output_type": "stream",
          "name": "stdout",
          "text": [
            "Collecting package metadata (current_repodata.json): - \b\b\\ \b\b| \b\b/ \b\b- \b\b\\ \b\b| \b\b/ \b\b- \b\b\\ \b\b| \b\b/ \b\b- \b\b\\ \b\b| \b\b/ \b\b- \b\b\\ \b\b| \b\b/ \b\b- \b\b\\ \b\b| \b\b/ \b\b- \b\b\\ \b\b| \b\b/ \b\b- \b\b\\ \b\b| \b\b/ \b\b- \b\b\\ \b\b| \b\b/ \b\b- \b\b\\ \b\b| \b\b/ \b\b- \b\b\\ \b\bdone\n",
            "Solving environment: / \b\b- \b\b\\ \b\b| \b\b/ \b\b- \b\b\\ \b\b| \b\b/ \b\b- \b\b\\ \b\b| \b\b/ \b\b- \b\b\\ \b\b| \b\b/ \b\b- \b\b\\ \b\b| \b\b/ \b\b- \b\b\\ \b\b| \b\b/ \b\b- \b\b\\ \b\b| \b\b/ \b\b- \b\b\\ \b\b| \b\b/ \b\b- \b\b\\ \b\b| \b\b/ \b\b- \b\b\\ \b\b| \b\b/ \b\b- \b\b\\ \b\b| \b\b/ \b\b- \b\b\\ \b\b| \b\b/ \b\b- \b\b\\ \b\b| \b\b/ \b\b- \b\b\\ \b\b| \b\b/ \b\b- \b\b\\ \b\b| \b\b/ \b\b- \b\b\\ \b\b| \b\b/ \b\bdone\n",
            "\n",
            "## Package Plan ##\n",
            "\n",
            "  environment location: /usr/local\n",
            "\n",
            "  added / updated specs:\n",
            "    - multiqc\n",
            "\n",
            "\n",
            "The following packages will be downloaded:\n",
            "\n",
            "    package                    |            build\n",
            "    ---------------------------|-----------------\n",
            "    click-8.1.3                |   py37h89c1867_0         145 KB  conda-forge\n",
            "    coloredlogs-15.0.1         |     pyhd8ed1ab_3          40 KB  conda-forge\n",
            "    colormath-3.0.0            |             py_2          34 KB  conda-forge\n",
            "    commonmark-0.9.1           |             py_0          46 KB  conda-forge\n",
            "    cycler-0.11.0              |     pyhd8ed1ab_0          10 KB  conda-forge\n",
            "    dataclasses-0.8            |     pyhc8e2a94_3          10 KB  conda-forge\n",
            "    decorator-4.4.2            |             py_0          11 KB  conda-forge\n",
            "    freetype-2.12.1            |       hca18f0e_0         884 KB  conda-forge\n",
            "    future-0.18.2              |   py37h89c1867_5         713 KB  conda-forge\n",
            "    humanfriendly-10.0         |   py37h89c1867_2         118 KB  conda-forge\n",
            "    importlib-metadata-4.11.4  |   py37h89c1867_0          33 KB  conda-forge\n",
            "    jinja2-3.1.2               |     pyhd8ed1ab_1          99 KB  conda-forge\n",
            "    jpeg-9e                    |       h166bdaf_2         269 KB  conda-forge\n",
            "    kiwisolver-1.4.4           |   py37h7cecad7_0          73 KB  conda-forge\n",
            "    lcms2-2.14                 |       h6ed2654_0         256 KB  conda-forge\n",
            "    lerc-4.0.0                 |       h27087fc_0         275 KB  conda-forge\n",
            "    libblas-3.9.0              |16_linux64_openblas          13 KB  conda-forge\n",
            "    libcblas-3.9.0             |16_linux64_openblas          13 KB  conda-forge\n",
            "    libdeflate-1.14            |       h166bdaf_0          81 KB  conda-forge\n",
            "    libgfortran-ng-12.2.0      |      h69a702a_19          22 KB  conda-forge\n",
            "    libgfortran5-12.2.0        |      h337968e_19         1.8 MB  conda-forge\n",
            "    liblapack-3.9.0            |16_linux64_openblas          13 KB  conda-forge\n",
            "    libopenblas-0.3.21         |pthreads_h78a6416_3        10.1 MB  conda-forge\n",
            "    libpng-1.6.38              |       h753d276_0         371 KB  conda-forge\n",
            "    libtiff-4.4.0              |       h55922b4_4         651 KB  conda-forge\n",
            "    libwebp-base-1.2.4         |       h166bdaf_0         404 KB  conda-forge\n",
            "    libxcb-1.13                |    h7f98852_1004         391 KB  conda-forge\n",
            "    lzstring-1.0.4             |          py_1001           6 KB  conda-forge\n",
            "    markdown-3.4.1             |     pyhd8ed1ab_0          65 KB  conda-forge\n",
            "    markupsafe-2.1.1           |   py37h540881e_1          22 KB  conda-forge\n",
            "    matplotlib-base-3.4.3      |   py37h1058ff1_2         7.3 MB  conda-forge\n",
            "    multiqc-1.13               |     pyhdfd78af_0         950 KB  bioconda\n",
            "    networkx-2.5.1             |     pyhd8ed1ab_0         1.2 MB  conda-forge\n",
            "    numpy-1.21.6               |   py37h976b520_0         6.1 MB  conda-forge\n",
            "    openjpeg-2.5.0             |       h7d73246_1         533 KB  conda-forge\n",
            "    pillow-9.2.0               |   py37h850a105_2        45.0 MB  conda-forge\n",
            "    pthread-stubs-0.4          |    h36c2ea0_1001           5 KB  conda-forge\n",
            "    pygments-2.13.0            |     pyhd8ed1ab_0         821 KB  conda-forge\n",
            "    pyparsing-3.0.9            |     pyhd8ed1ab_0          79 KB  conda-forge\n",
            "    python-dateutil-2.8.2      |     pyhd8ed1ab_0         240 KB  conda-forge\n",
            "    pyyaml-6.0                 |   py37h540881e_4         178 KB  conda-forge\n",
            "    rich-12.6.0                |     pyhd8ed1ab_0         170 KB  conda-forge\n",
            "    rich-click-1.5.2           |     pyhd8ed1ab_0          21 KB  conda-forge\n",
            "    simplejson-3.17.6          |   py37h540881e_1         103 KB  conda-forge\n",
            "    spectra-0.0.11             |             py_1          19 KB  conda-forge\n",
            "    tornado-6.2                |   py37h540881e_0         651 KB  conda-forge\n",
            "    typing-extensions-4.4.0    |       hd8ed1ab_0           8 KB  conda-forge\n",
            "    typing_extensions-4.4.0    |     pyha770c72_0          29 KB  conda-forge\n",
            "    xorg-libxau-1.0.9          |       h7f98852_0          13 KB  conda-forge\n",
            "    xorg-libxdmcp-1.1.3        |       h7f98852_0          19 KB  conda-forge\n",
            "    zipp-3.10.0                |     pyhd8ed1ab_0          14 KB  conda-forge\n",
            "    ------------------------------------------------------------\n",
            "                                           Total:        80.1 MB\n",
            "\n",
            "The following NEW packages will be INSTALLED:\n",
            "\n",
            "  click              conda-forge/linux-64::click-8.1.3-py37h89c1867_0 None\n",
            "  coloredlogs        conda-forge/noarch::coloredlogs-15.0.1-pyhd8ed1ab_3 None\n",
            "  colormath          conda-forge/noarch::colormath-3.0.0-py_2 None\n",
            "  commonmark         conda-forge/noarch::commonmark-0.9.1-py_0 None\n",
            "  cycler             conda-forge/noarch::cycler-0.11.0-pyhd8ed1ab_0 None\n",
            "  dataclasses        conda-forge/noarch::dataclasses-0.8-pyhc8e2a94_3 None\n",
            "  decorator          conda-forge/noarch::decorator-4.4.2-py_0 None\n",
            "  freetype           conda-forge/linux-64::freetype-2.12.1-hca18f0e_0 None\n",
            "  future             conda-forge/linux-64::future-0.18.2-py37h89c1867_5 None\n",
            "  humanfriendly      conda-forge/linux-64::humanfriendly-10.0-py37h89c1867_2 None\n",
            "  importlib-metadata conda-forge/linux-64::importlib-metadata-4.11.4-py37h89c1867_0 None\n",
            "  jinja2             conda-forge/noarch::jinja2-3.1.2-pyhd8ed1ab_1 None\n",
            "  jpeg               conda-forge/linux-64::jpeg-9e-h166bdaf_2 None\n",
            "  kiwisolver         conda-forge/linux-64::kiwisolver-1.4.4-py37h7cecad7_0 None\n",
            "  lcms2              conda-forge/linux-64::lcms2-2.14-h6ed2654_0 None\n",
            "  lerc               conda-forge/linux-64::lerc-4.0.0-h27087fc_0 None\n",
            "  libblas            conda-forge/linux-64::libblas-3.9.0-16_linux64_openblas None\n",
            "  libcblas           conda-forge/linux-64::libcblas-3.9.0-16_linux64_openblas None\n",
            "  libdeflate         conda-forge/linux-64::libdeflate-1.14-h166bdaf_0 None\n",
            "  libgfortran-ng     conda-forge/linux-64::libgfortran-ng-12.2.0-h69a702a_19 None\n",
            "  libgfortran5       conda-forge/linux-64::libgfortran5-12.2.0-h337968e_19 None\n",
            "  liblapack          conda-forge/linux-64::liblapack-3.9.0-16_linux64_openblas None\n",
            "  libopenblas        conda-forge/linux-64::libopenblas-0.3.21-pthreads_h78a6416_3 None\n",
            "  libpng             conda-forge/linux-64::libpng-1.6.38-h753d276_0 None\n",
            "  libtiff            conda-forge/linux-64::libtiff-4.4.0-h55922b4_4 None\n",
            "  libwebp-base       conda-forge/linux-64::libwebp-base-1.2.4-h166bdaf_0 None\n",
            "  libxcb             conda-forge/linux-64::libxcb-1.13-h7f98852_1004 None\n",
            "  lzstring           conda-forge/noarch::lzstring-1.0.4-py_1001 None\n",
            "  markdown           conda-forge/noarch::markdown-3.4.1-pyhd8ed1ab_0 None\n",
            "  markupsafe         conda-forge/linux-64::markupsafe-2.1.1-py37h540881e_1 None\n",
            "  matplotlib-base    conda-forge/linux-64::matplotlib-base-3.4.3-py37h1058ff1_2 None\n",
            "  multiqc            bioconda/noarch::multiqc-1.13-pyhdfd78af_0 None\n",
            "  networkx           conda-forge/noarch::networkx-2.5.1-pyhd8ed1ab_0 None\n",
            "  numpy              conda-forge/linux-64::numpy-1.21.6-py37h976b520_0 None\n",
            "  openjpeg           conda-forge/linux-64::openjpeg-2.5.0-h7d73246_1 None\n",
            "  pillow             conda-forge/linux-64::pillow-9.2.0-py37h850a105_2 None\n",
            "  pthread-stubs      conda-forge/linux-64::pthread-stubs-0.4-h36c2ea0_1001 None\n",
            "  pygments           conda-forge/noarch::pygments-2.13.0-pyhd8ed1ab_0 None\n",
            "  pyparsing          conda-forge/noarch::pyparsing-3.0.9-pyhd8ed1ab_0 None\n",
            "  python-dateutil    conda-forge/noarch::python-dateutil-2.8.2-pyhd8ed1ab_0 None\n",
            "  pyyaml             conda-forge/linux-64::pyyaml-6.0-py37h540881e_4 None\n",
            "  rich               conda-forge/noarch::rich-12.6.0-pyhd8ed1ab_0 None\n",
            "  rich-click         conda-forge/noarch::rich-click-1.5.2-pyhd8ed1ab_0 None\n",
            "  simplejson         conda-forge/linux-64::simplejson-3.17.6-py37h540881e_1 None\n",
            "  spectra            conda-forge/noarch::spectra-0.0.11-py_1 None\n",
            "  tornado            conda-forge/linux-64::tornado-6.2-py37h540881e_0 None\n",
            "  typing-extensions  conda-forge/noarch::typing-extensions-4.4.0-hd8ed1ab_0 None\n",
            "  typing_extensions  conda-forge/noarch::typing_extensions-4.4.0-pyha770c72_0 None\n",
            "  xorg-libxau        conda-forge/linux-64::xorg-libxau-1.0.9-h7f98852_0 None\n",
            "  xorg-libxdmcp      conda-forge/linux-64::xorg-libxdmcp-1.1.3-h7f98852_0 None\n",
            "  zipp               conda-forge/noarch::zipp-3.10.0-pyhd8ed1ab_0 None\n",
            "\n",
            "\n",
            "\n",
            "Downloading and Extracting Packages\n",
            "rich-click-1.5.2     | 21 KB     | : 100% 1.0/1 [00:00<00:00,  2.70it/s]               \n",
            "lcms2-2.14           | 256 KB    | : 100% 1.0/1 [00:00<00:00, 10.92it/s]\n",
            "humanfriendly-10.0   | 118 KB    | : 100% 1.0/1 [00:00<00:00, 11.63it/s]\n",
            "lerc-4.0.0           | 275 KB    | : 100% 1.0/1 [00:00<00:00, 11.59it/s]\n",
            "libopenblas-0.3.21   | 10.1 MB   | : 100% 1.0/1 [00:02<00:00,  2.65s/it]               \n",
            "libgfortran-ng-12.2. | 22 KB     | : 100% 1.0/1 [00:00<00:00, 24.97it/s]\n",
            "libtiff-4.4.0        | 651 KB    | : 100% 1.0/1 [00:00<00:00,  5.09it/s]\n",
            "xorg-libxdmcp-1.1.3  | 19 KB     | : 100% 1.0/1 [00:00<00:00, 30.19it/s]\n",
            "lzstring-1.0.4       | 6 KB      | : 100% 1.0/1 [00:00<00:00, 30.16it/s]\n",
            "kiwisolver-1.4.4     | 73 KB     | : 100% 1.0/1 [00:00<00:00, 21.47it/s]\n",
            "matplotlib-base-3.4. | 7.3 MB    | : 100% 1.0/1 [00:02<00:00,  2.32s/it]\n",
            "importlib-metadata-4 | 33 KB     | : 100% 1.0/1 [00:00<00:00, 25.27it/s]\n",
            "libxcb-1.13          | 391 KB    | : 100% 1.0/1 [00:00<00:00,  4.53it/s]\n",
            "spectra-0.0.11       | 19 KB     | : 100% 1.0/1 [00:00<00:00,  3.15it/s]              \n",
            "markupsafe-2.1.1     | 22 KB     | : 100% 1.0/1 [00:00<00:00, 25.28it/s]\n",
            "freetype-2.12.1      | 884 KB    | : 100% 1.0/1 [00:00<00:00,  3.35it/s]\n",
            "pygments-2.13.0      | 821 KB    | : 100% 1.0/1 [00:00<00:00,  2.93it/s]\n",
            "openjpeg-2.5.0       | 533 KB    | : 100% 1.0/1 [00:00<00:00,  6.24it/s]\n",
            "future-0.18.2        | 713 KB    | : 100% 1.0/1 [00:00<00:00,  3.22it/s]\n",
            "liblapack-3.9.0      | 13 KB     | : 100% 1.0/1 [00:00<00:00, 29.90it/s]\n",
            "multiqc-1.13         | 950 KB    | : 100% 1.0/1 [00:00<00:00,  2.91it/s]\n",
            "dataclasses-0.8      | 10 KB     | : 100% 1.0/1 [00:00<00:00, 28.55it/s]\n",
            "libwebp-base-1.2.4   | 404 KB    | : 100% 1.0/1 [00:00<00:00,  7.00it/s]\n",
            "libpng-1.6.38        | 371 KB    | : 100% 1.0/1 [00:00<00:00,  7.37it/s]\n",
            "markdown-3.4.1       | 65 KB     | : 100% 1.0/1 [00:00<00:00, 18.09it/s]\n",
            "pthread-stubs-0.4    | 5 KB      | : 100% 1.0/1 [00:00<00:00, 34.40it/s]\n",
            "zipp-3.10.0          | 14 KB     | : 100% 1.0/1 [00:00<00:00, 26.13it/s]\n",
            "commonmark-0.9.1     | 46 KB     | : 100% 1.0/1 [00:00<00:00, 23.13it/s]\n",
            "numpy-1.21.6         | 6.1 MB    | : 100% 1.0/1 [00:02<00:00,  2.06s/it]               \n",
            "libgfortran5-12.2.0  | 1.8 MB    | : 100% 1.0/1 [00:00<00:00,  1.49it/s]\n",
            "jinja2-3.1.2         | 99 KB     | : 100% 1.0/1 [00:00<00:00, 13.41it/s]\n",
            "jpeg-9e              | 269 KB    | : 100% 1.0/1 [00:00<00:00,  7.89it/s]\n",
            "pyyaml-6.0           | 178 KB    | : 100% 1.0/1 [00:00<00:00,  9.58it/s]\n",
            "typing_extensions-4. | 29 KB     | : 100% 1.0/1 [00:00<00:00, 19.65it/s]\n",
            "simplejson-3.17.6    | 103 KB    | : 100% 1.0/1 [00:00<00:00,  2.64it/s]                \n",
            "libblas-3.9.0        | 13 KB     | : 100% 1.0/1 [00:00<00:00, 27.17it/s]\n",
            "click-8.1.3          | 145 KB    | : 100% 1.0/1 [00:00<00:00, 11.64it/s]\n",
            "libdeflate-1.14      | 81 KB     | : 100% 1.0/1 [00:00<00:00, 15.40it/s]\n",
            "libcblas-3.9.0       | 13 KB     | : 100% 1.0/1 [00:00<00:00, 29.61it/s]\n",
            "colormath-3.0.0      | 34 KB     | : 100% 1.0/1 [00:00<00:00,  3.02it/s]               \n",
            "pillow-9.2.0         | 45.0 MB   | : 100% 1.0/1 [00:09<00:00,  9.07s/it]               \n",
            "rich-12.6.0          | 170 KB    | : 100% 1.0/1 [00:00<00:00,  9.70it/s]\n",
            "xorg-libxau-1.0.9    | 13 KB     | : 100% 1.0/1 [00:00<00:00, 34.29it/s]\n",
            "coloredlogs-15.0.1   | 40 KB     | : 100% 1.0/1 [00:00<00:00, 25.45it/s]\n",
            "pyparsing-3.0.9      | 79 KB     | : 100% 1.0/1 [00:00<00:00, 19.32it/s]\n",
            "networkx-2.5.1       | 1.2 MB    | : 100% 1.0/1 [00:00<00:00,  1.90it/s]\n",
            "decorator-4.4.2      | 11 KB     | : 100% 1.0/1 [00:00<00:00, 31.72it/s]\n",
            "typing-extensions-4. | 8 KB      | : 100% 1.0/1 [00:00<00:00, 28.66it/s]\n",
            "tornado-6.2          | 651 KB    | : 100% 1.0/1 [00:00<00:00,  2.85it/s]\n",
            "cycler-0.11.0        | 10 KB     | : 100% 1.0/1 [00:00<00:00, 32.44it/s]\n",
            "python-dateutil-2.8. | 240 KB    | : 100% 1.0/1 [00:00<00:00, 14.84it/s]\n",
            "Preparing transaction: \\ \b\b| \b\b/ \b\b- \b\bdone\n",
            "Verifying transaction: | \b\b/ \b\b- \b\b\\ \b\b| \b\b/ \b\b- \b\bdone\n",
            "Executing transaction: | \b\b/ \b\b- \b\b\\ \b\b| \b\b/ \b\b- \b\b\\ \b\b| \b\b/ \b\b- \b\b\\ \b\b| \b\b/ \b\b- \b\b\\ \b\b| \b\b/ \b\b- \b\b\\ \b\b| \b\b/ \b\b- \b\b\\ \b\b| \b\b/ \b\b- \b\b\\ \b\b| \b\b/ \b\b- \b\b\\ \b\b| \b\b/ \b\b- \b\b\\ \b\b| \b\b/ \b\b- \b\b\\ \b\b| \b\b/ \b\b- \b\b\\ \b\b| \b\b/ \b\b- \b\b\\ \b\b| \b\b/ \b\b- \b\bdone\n",
            "Retrieving notices: ...working... done\n"
          ]
        }
      ]
    },
    {
      "cell_type": "code",
      "source": [
        "!multiqc fastqc/"
      ],
      "metadata": {
        "colab": {
          "base_uri": "https://localhost:8080/"
        },
        "id": "ltgkZPFrqk8E",
        "outputId": "71fc6f34-a522-4900-ec60-b1ed2f2ba945"
      },
      "execution_count": 5,
      "outputs": [
        {
          "output_type": "stream",
          "name": "stdout",
          "text": [
            "\n",
            "  \u001b[34m/\u001b[0m\u001b[32m/\u001b[0m\u001b[31m/\u001b[0m \u001b]8;id=983966;https://multiqc.info\u001b\\\u001b[1mMultiQC\u001b[0m\u001b]8;;\u001b\\ 🔍 \u001b[2m| v1.13\u001b[0m\n",
            "\n",
            "\u001b[34m|           multiqc\u001b[0m | Search path : /content/fastqc\n",
            "\u001b[2K\u001b[34m|\u001b[0m         \u001b[34msearching\u001b[0m | \u001b[90m━━━━━━━━━━━━━━━━━━━━━━━━━━━━━━━━━━━━━━━━\u001b[0m \u001b[35m100%\u001b[0m \u001b[32m20/20\u001b[0m  \n",
            "\u001b[?25h\u001b[34m|            fastqc\u001b[0m | Found 10 reports\n",
            "\u001b[34m|           multiqc\u001b[0m | Compressing plot data\n",
            "\u001b[34m|           multiqc\u001b[0m | Report      : multiqc_report.html\n",
            "\u001b[34m|           multiqc\u001b[0m | Data        : multiqc_data\n",
            "\u001b[34m|           multiqc\u001b[0m | MultiQC complete\n"
          ]
        }
      ]
    },
    {
      "cell_type": "markdown",
      "source": [
        "2. Найдите в интернете и скачайте бинарники для последних версий hisat2"
      ],
      "metadata": {
        "id": "NMRSPDOiousY"
      }
    },
    {
      "cell_type": "code",
      "source": [
        "!conda install -y -c bioconda hisat2"
      ],
      "metadata": {
        "colab": {
          "base_uri": "https://localhost:8080/"
        },
        "id": "SK8Wj8WQzewD",
        "outputId": "ecfe1d35-9784-4f0b-cbe9-4bbe582d9f17"
      },
      "execution_count": 6,
      "outputs": [
        {
          "output_type": "stream",
          "name": "stdout",
          "text": [
            "Collecting package metadata (current_repodata.json): - \b\b\\ \b\b| \b\b/ \b\b- \b\b\\ \b\b| \b\b/ \b\b- \b\b\\ \b\b| \b\b/ \b\b- \b\b\\ \b\b| \b\b/ \b\b- \b\b\\ \b\b| \b\b/ \b\b- \b\b\\ \b\b| \b\b/ \b\b- \b\b\\ \b\b| \b\b/ \b\b- \b\b\\ \b\b| \b\b/ \b\b- \b\b\\ \b\b| \b\b/ \b\b- \b\b\\ \b\b| \b\b/ \b\bdone\n",
            "Solving environment: \\ \b\b| \b\b/ \b\b- \b\b\\ \b\b| \b\b/ \b\b- \b\b\\ \b\b| \b\b/ \b\b- \b\b\\ \b\b| \b\b/ \b\b- \b\b\\ \b\b| \b\b/ \b\b- \b\b\\ \b\b| \b\b/ \b\b- \b\b\\ \b\b| \b\b/ \b\b- \b\b\\ \b\b| \b\b/ \b\b- \b\b\\ \b\b| \b\b/ \b\b- \b\b\\ \b\b| \b\b/ \b\b- \b\b\\ \b\bdone\n",
            "\n",
            "## Package Plan ##\n",
            "\n",
            "  environment location: /usr/local\n",
            "\n",
            "  added / updated specs:\n",
            "    - hisat2\n",
            "\n",
            "\n",
            "The following packages will be downloaded:\n",
            "\n",
            "    package                    |            build\n",
            "    ---------------------------|-----------------\n",
            "    hisat2-2.2.1               |       h87f3376_4        16.5 MB  bioconda\n",
            "    ------------------------------------------------------------\n",
            "                                           Total:        16.5 MB\n",
            "\n",
            "The following NEW packages will be INSTALLED:\n",
            "\n",
            "  hisat2             bioconda/linux-64::hisat2-2.2.1-h87f3376_4 None\n",
            "\n",
            "\n",
            "\n",
            "Downloading and Extracting Packages\n",
            "hisat2-2.2.1         | 16.5 MB   | : 100% 1.0/1 [00:04<00:00,  4.62s/it]\n",
            "Preparing transaction: / \b\bdone\n",
            "Verifying transaction: \\ \b\bdone\n",
            "Executing transaction: / \b\bdone\n",
            "Retrieving notices: ...working... done\n"
          ]
        }
      ]
    },
    {
      "cell_type": "markdown",
      "source": [
        "3. Зайти на ensembl.org→Mouse→Download FASTA/GTF → скачать последовательность 19\n",
        "хромосомы мыши и её аннотацию в формате gtf (для всего генома)"
      ],
      "metadata": {
        "id": "u28EoVv5ozL_"
      }
    },
    {
      "cell_type": "code",
      "source": [
        "!wget http://ftp.ensembl.org/pub/release-107/fasta/mus_musculus/dna/Mus_musculus.GRCm39.dna.chromosome.19.fa.gz\n",
        "!wget http://ftp.ensembl.org/pub/release-107/gtf/mus_musculus/Mus_musculus.GRCm39.107.chr.gtf.gz\n",
        "!gunzip ./*"
      ],
      "metadata": {
        "colab": {
          "base_uri": "https://localhost:8080/"
        },
        "id": "Z5ezZOjW_ROn",
        "outputId": "4d0aa1bb-324d-4d83-d078-fe4740abe790"
      },
      "execution_count": 7,
      "outputs": [
        {
          "output_type": "stream",
          "name": "stdout",
          "text": [
            "--2022-11-06 11:27:09--  http://ftp.ensembl.org/pub/release-107/fasta/mus_musculus/dna/Mus_musculus.GRCm39.dna.chromosome.19.fa.gz\n",
            "Resolving ftp.ensembl.org (ftp.ensembl.org)... 193.62.193.139\n",
            "Connecting to ftp.ensembl.org (ftp.ensembl.org)|193.62.193.139|:80... connected.\n",
            "HTTP request sent, awaiting response... 200 OK\n",
            "Length: 17732438 (17M) [application/x-gzip]\n",
            "Saving to: ‘Mus_musculus.GRCm39.dna.chromosome.19.fa.gz’\n",
            "\n",
            "Mus_musculus.GRCm39 100%[===================>]  16.91M   260KB/s    in 69s     \n",
            "\n",
            "2022-11-06 11:28:19 (250 KB/s) - ‘Mus_musculus.GRCm39.dna.chromosome.19.fa.gz’ saved [17732438/17732438]\n",
            "\n",
            "--2022-11-06 11:28:19--  http://ftp.ensembl.org/pub/release-107/gtf/mus_musculus/Mus_musculus.GRCm39.107.chr.gtf.gz\n",
            "Resolving ftp.ensembl.org (ftp.ensembl.org)... 193.62.193.139\n",
            "Connecting to ftp.ensembl.org (ftp.ensembl.org)|193.62.193.139|:80... connected.\n",
            "HTTP request sent, awaiting response... 200 OK\n",
            "Length: 31854002 (30M) [application/x-gzip]\n",
            "Saving to: ‘Mus_musculus.GRCm39.107.chr.gtf.gz’\n",
            "\n",
            "Mus_musculus.GRCm39 100%[===================>]  30.38M   258KB/s    in 2m 4s   \n",
            "\n",
            "2022-11-06 11:30:24 (250 KB/s) - ‘Mus_musculus.GRCm39.107.chr.gtf.gz’ saved [31854002/31854002]\n",
            "\n",
            "gzip: ./condacolab_install.log: unknown suffix -- ignored\n",
            "gzip: ./drive is a directory -- ignored\n",
            "gzip: ./fastqc is a directory -- ignored\n",
            "gzip: ./multiqc_data is a directory -- ignored\n",
            "gzip: ./multiqc_report.html: unknown suffix -- ignored\n",
            "gzip: ./sample_data is a directory -- ignored\n"
          ]
        }
      ]
    },
    {
      "cell_type": "markdown",
      "source": [
        "4. Отфильтруйте из аннотации только 19ую хромосому при помощи команды grep -P '^19\\t'"
      ],
      "metadata": {
        "id": "8ScjdCw7o9Nr"
      }
    },
    {
      "cell_type": "code",
      "source": [
        "!grep -P '^19\\t' Mus_musculus.GRCm39.107.chr.gtf > Mus_musculus.GRCm39.107.chr19.gtf"
      ],
      "metadata": {
        "id": "-Lqzvofv-X5I"
      },
      "execution_count": 8,
      "outputs": []
    },
    {
      "cell_type": "markdown",
      "source": [
        "5. Постройте индекс по последовательности 19ой хромосомы при помощи команды hisat2-\n",
        "build (без координат сайтов)"
      ],
      "metadata": {
        "id": "2SLNLFeDpDV_"
      }
    },
    {
      "cell_type": "code",
      "source": [
        "!hisat2-build Mus_musculus.GRCm39.dna.chromosome.19.fa Mus_musculus.GRCm39.dna.chromosome.19"
      ],
      "metadata": {
        "colab": {
          "base_uri": "https://localhost:8080/"
        },
        "id": "L66dqzkzBJNU",
        "outputId": "ba8223c6-fadc-4999-b190-fc857a8795f7"
      },
      "execution_count": 9,
      "outputs": [
        {
          "output_type": "stream",
          "name": "stdout",
          "text": [
            "Settings:\n",
            "  Output files: \"Mus_musculus.GRCm39.dna.chromosome.19.*.ht2\"\n",
            "  Line rate: 6 (line is 64 bytes)\n",
            "  Lines per side: 1 (side is 64 bytes)\n",
            "  Offset rate: 4 (one in 16)\n",
            "  FTable chars: 10\n",
            "  Strings: unpacked\n",
            "  Local offset rate: 3 (one in 8)\n",
            "  Local fTable chars: 6\n",
            "  Local sequence length: 57344\n",
            "  Local sequence overlap between two consecutive indexes: 1024\n",
            "  Endianness: little\n",
            "  Actual local endianness: little\n",
            "  Sanity checking: disabled\n",
            "  Assertions: disabled\n",
            "  Random seed: 0\n",
            "  Sizeofs: void*:8, int:4, long:8, size_t:8\n",
            "Input files DNA, FASTA:\n",
            "  Mus_musculus.GRCm39.dna.chromosome.19.fa\n",
            "Reading reference sizes\n",
            "  Time reading reference sizes: 00:00:00\n",
            "Calculating joined length\n",
            "Writing header\n",
            "Reserving space for joined string\n",
            "Joining reference sequences\n",
            "  Time to join reference sequences: 00:00:01\n",
            "  Time to read SNPs and splice sites: 00:00:00\n",
            "Using parameters --bmax 10916251 --dcv 1024\n",
            "  Doing ahead-of-time memory usage test\n",
            "  Passed!  Constructing with these parameters: --bmax 10916251 --dcv 1024\n",
            "Constructing suffix-array element generator\n",
            "Building DifferenceCoverSample\n",
            "  Building sPrime\n",
            "  Building sPrimeOrder\n",
            "  V-Sorting samples\n",
            "  V-Sorting samples time: 00:00:01\n",
            "  Allocating rank array\n",
            "  Ranking v-sort output\n",
            "  Ranking v-sort output time: 00:00:01\n",
            "  Invoking Larsson-Sadakane on ranks\n",
            "  Invoking Larsson-Sadakane on ranks time: 00:00:00\n",
            "  Sanity-checking and returning\n",
            "Building samples\n",
            "Reserving space for 12 sample suffixes\n",
            "Generating random suffixes\n",
            "QSorting 12 sample offsets, eliminating duplicates\n",
            "QSorting sample offsets, eliminating duplicates time: 00:00:00\n",
            "Multikey QSorting 12 samples\n",
            "  (Using difference cover)\n",
            "  Multikey QSorting samples time: 00:00:00\n",
            "Calculating bucket sizes\n",
            "Splitting and merging\n",
            "  Splitting and merging time: 00:00:00\n",
            "Avg bucket size: 8.31714e+06 (target: 10916250)\n",
            "Converting suffix-array elements to index image\n",
            "Allocating ftab, absorbFtab\n",
            "Entering GFM loop\n",
            "Getting block 1 of 7\n",
            "  Reserving size (10916251) for bucket 1\n",
            "  Calculating Z arrays for bucket 1\n",
            "  Entering block accumulator loop for bucket 1:\n",
            "  bucket 1: 10%\n",
            "  bucket 1: 20%\n",
            "  bucket 1: 30%\n",
            "  bucket 1: 40%\n",
            "  bucket 1: 50%\n",
            "  bucket 1: 60%\n",
            "  bucket 1: 70%\n",
            "  bucket 1: 80%\n",
            "  bucket 1: 90%\n",
            "  bucket 1: 100%\n",
            "  Sorting block of length 8286876 for bucket 1\n",
            "  (Using difference cover)\n",
            "  Sorting block time: 00:00:04\n",
            "Returning block of 8286877 for bucket 1\n",
            "Getting block 2 of 7\n",
            "  Reserving size (10916251) for bucket 2\n",
            "  Calculating Z arrays for bucket 2\n",
            "  Entering block accumulator loop for bucket 2:\n",
            "  bucket 2: 10%\n",
            "  bucket 2: 20%\n",
            "  bucket 2: 30%\n",
            "  bucket 2: 40%\n",
            "  bucket 2: 50%\n",
            "  bucket 2: 60%\n",
            "  bucket 2: 70%\n",
            "  bucket 2: 80%\n",
            "  bucket 2: 90%\n",
            "  bucket 2: 100%\n",
            "  Sorting block of length 10857377 for bucket 2\n",
            "  (Using difference cover)\n",
            "  Sorting block time: 00:00:05\n",
            "Returning block of 10857378 for bucket 2\n",
            "Getting block 3 of 7\n",
            "  Reserving size (10916251) for bucket 3\n",
            "  Calculating Z arrays for bucket 3\n",
            "  Entering block accumulator loop for bucket 3:\n",
            "  bucket 3: 10%\n",
            "  bucket 3: 20%\n",
            "  bucket 3: 30%\n",
            "  bucket 3: 40%\n",
            "  bucket 3: 50%\n",
            "  bucket 3: 60%\n",
            "  bucket 3: 70%\n",
            "  bucket 3: 80%\n",
            "  bucket 3: 90%\n",
            "  bucket 3: 100%\n",
            "  Sorting block of length 10554111 for bucket 3\n",
            "  (Using difference cover)\n",
            "  Sorting block time: 00:00:05\n",
            "Returning block of 10554112 for bucket 3\n",
            "Getting block 4 of 7\n",
            "  Reserving size (10916251) for bucket 4\n",
            "  Calculating Z arrays for bucket 4\n",
            "  Entering block accumulator loop for bucket 4:\n",
            "  bucket 4: 10%\n",
            "  bucket 4: 20%\n",
            "  bucket 4: 30%\n",
            "  bucket 4: 40%\n",
            "  bucket 4: 50%\n",
            "  bucket 4: 60%\n",
            "  bucket 4: 70%\n",
            "  bucket 4: 80%\n",
            "  bucket 4: 90%\n",
            "  bucket 4: 100%\n",
            "  Sorting block of length 4600643 for bucket 4\n",
            "  (Using difference cover)\n",
            "  Sorting block time: 00:00:02\n",
            "Returning block of 4600644 for bucket 4\n",
            "Getting block 5 of 7\n",
            "  Reserving size (10916251) for bucket 5\n",
            "  Calculating Z arrays for bucket 5\n",
            "  Entering block accumulator loop for bucket 5:\n",
            "  bucket 5: 10%\n",
            "  bucket 5: 20%\n",
            "  bucket 5: 30%\n",
            "  bucket 5: 40%\n",
            "  bucket 5: 50%\n",
            "  bucket 5: 60%\n",
            "  bucket 5: 70%\n",
            "  bucket 5: 80%\n",
            "  bucket 5: 90%\n",
            "  bucket 5: 100%\n",
            "  Sorting block of length 7464214 for bucket 5\n",
            "  (Using difference cover)\n",
            "  Sorting block time: 00:00:03\n",
            "Returning block of 7464215 for bucket 5\n",
            "Getting block 6 of 7\n",
            "  Reserving size (10916251) for bucket 6\n",
            "  Calculating Z arrays for bucket 6\n",
            "  Entering block accumulator loop for bucket 6:\n",
            "  bucket 6: 10%\n",
            "  bucket 6: 20%\n",
            "  bucket 6: 30%\n",
            "  bucket 6: 40%\n",
            "  bucket 6: 50%\n",
            "  bucket 6: 60%\n",
            "  bucket 6: 70%\n",
            "  bucket 6: 80%\n",
            "  bucket 6: 90%\n",
            "  bucket 6: 100%\n",
            "  Sorting block of length 8905610 for bucket 6\n",
            "  (Using difference cover)\n",
            "  Sorting block time: 00:00:04\n",
            "Returning block of 8905611 for bucket 6\n",
            "Getting block 7 of 7\n",
            "  Reserving size (10916251) for bucket 7\n",
            "  Calculating Z arrays for bucket 7\n",
            "  Entering block accumulator loop for bucket 7:\n",
            "  bucket 7: 10%\n",
            "  bucket 7: 20%\n",
            "  bucket 7: 30%\n",
            "  bucket 7: 40%\n",
            "  bucket 7: 50%\n",
            "  bucket 7: 60%\n",
            "  bucket 7: 70%\n",
            "  bucket 7: 80%\n",
            "  bucket 7: 90%\n",
            "  bucket 7: 100%\n",
            "  Sorting block of length 7551167 for bucket 7\n",
            "  (Using difference cover)\n",
            "  Sorting block time: 00:00:03\n",
            "Returning block of 7551168 for bucket 7\n",
            "Exited GFM loop\n",
            "fchr[A]: 0\n",
            "fchr[C]: 16736386\n",
            "fchr[G]: 29189141\n",
            "fchr[T]: 41613507\n",
            "fchr[$]: 58220004\n",
            "Exiting GFM::buildToDisk()\n",
            "Returning from initFromVector\n",
            "Wrote 23601273 bytes to primary GFM file: Mus_musculus.GRCm39.dna.chromosome.19.1.ht2\n",
            "Wrote 14555008 bytes to secondary GFM file: Mus_musculus.GRCm39.dna.chromosome.19.2.ht2\n",
            "Re-opening _in1 and _in2 as input streams\n",
            "Returning from GFM constructor\n",
            "Returning from initFromVector\n",
            "Wrote 25557013 bytes to primary GFM file: Mus_musculus.GRCm39.dna.chromosome.19.5.ht2\n",
            "Wrote 14821520 bytes to secondary GFM file: Mus_musculus.GRCm39.dna.chromosome.19.6.ht2\n",
            "Re-opening _in5 and _in5 as input streams\n",
            "Returning from HGFM constructor\n",
            "Headers:\n",
            "    len: 58220004\n",
            "    gbwtLen: 58220005\n",
            "    nodes: 58220005\n",
            "    sz: 14555001\n",
            "    gbwtSz: 14555002\n",
            "    lineRate: 6\n",
            "    offRate: 4\n",
            "    offMask: 0xfffffff0\n",
            "    ftabChars: 10\n",
            "    eftabLen: 0\n",
            "    eftabSz: 0\n",
            "    ftabLen: 1048577\n",
            "    ftabSz: 4194308\n",
            "    offsLen: 3638751\n",
            "    offsSz: 14555004\n",
            "    lineSz: 64\n",
            "    sideSz: 64\n",
            "    sideGbwtSz: 48\n",
            "    sideGbwtLen: 192\n",
            "    numSides: 303230\n",
            "    numLines: 303230\n",
            "    gbwtTotLen: 19406720\n",
            "    gbwtTotSz: 19406720\n",
            "    reverse: 0\n",
            "    linearFM: Yes\n",
            "Total time for call to driver() for forward index: 00:01:01\n"
          ]
        }
      ]
    },
    {
      "cell_type": "markdown",
      "source": [
        "6. Прокартируйте все fq файлы (начните с одного) на 19ую хромосому при помощи hisat2 не\n",
        "допуская обрезания ридов и сообщив hisat2 координаты сайтов сплайсинга"
      ],
      "metadata": {
        "id": "kKGZF-VcpLYw"
      }
    },
    {
      "cell_type": "code",
      "source": [
        "!hisat2_extract_splice_sites.py Mus_musculus.GRCm39.107.chr19.gtf > Mus_musculus.GRCm39.107.chr19.ss\n",
        "!hisat2 --no-softclip --known-splicesite-infile Mus_musculus.GRCm39.107.chr19.ss -x Mus_musculus.GRCm39.dna.chromosome.19 -U ./drive/MyDrive/NGS/rna.seq.data/B14.5.fq.gz -S B14.5.sam"
      ],
      "metadata": {
        "colab": {
          "base_uri": "https://localhost:8080/"
        },
        "id": "UgunW1LoCIMK",
        "outputId": "3cb669bc-03c6-4211-838b-a46893bb40ca"
      },
      "execution_count": 10,
      "outputs": [
        {
          "output_type": "stream",
          "name": "stdout",
          "text": [
            "599672 reads; of these:\n",
            "  599672 (100.00%) were unpaired; of these:\n",
            "    46932 (7.83%) aligned 0 times\n",
            "    540477 (90.13%) aligned exactly 1 time\n",
            "    12263 (2.04%) aligned >1 times\n",
            "92.17% overall alignment rate\n"
          ]
        }
      ]
    },
    {
      "cell_type": "code",
      "source": [
        "# map the rest of fq files\n",
        "for i in ['B15.5','B17.5','B20','B34','C14.5','C15.5','C17.5','C20','C34']:\n",
        "  !hisat2 --no-softclip --known-splicesite-infile Mus_musculus.GRCm39.107.chr19.ss -x Mus_musculus.GRCm39.dna.chromosome.19 -U ./drive/MyDrive/NGS/rna.seq.data/{i}.fq.gz -S {i}.sam"
      ],
      "metadata": {
        "id": "fXS6E6UztAmU",
        "colab": {
          "base_uri": "https://localhost:8080/"
        },
        "outputId": "1bc366d8-10b2-40d6-9f64-61636b33bc4d"
      },
      "execution_count": 11,
      "outputs": [
        {
          "output_type": "stream",
          "name": "stdout",
          "text": [
            "599345 reads; of these:\n",
            "  599345 (100.00%) were unpaired; of these:\n",
            "    70738 (11.80%) aligned 0 times\n",
            "    517132 (86.28%) aligned exactly 1 time\n",
            "    11475 (1.91%) aligned >1 times\n",
            "88.20% overall alignment rate\n",
            "600006 reads; of these:\n",
            "  600006 (100.00%) were unpaired; of these:\n",
            "    74975 (12.50%) aligned 0 times\n",
            "    515423 (85.90%) aligned exactly 1 time\n",
            "    9608 (1.60%) aligned >1 times\n",
            "87.50% overall alignment rate\n",
            "599777 reads; of these:\n",
            "  599777 (100.00%) were unpaired; of these:\n",
            "    51084 (8.52%) aligned 0 times\n",
            "    538301 (89.75%) aligned exactly 1 time\n",
            "    10392 (1.73%) aligned >1 times\n",
            "91.48% overall alignment rate\n",
            "599683 reads; of these:\n",
            "  599683 (100.00%) were unpaired; of these:\n",
            "    51757 (8.63%) aligned 0 times\n",
            "    539543 (89.97%) aligned exactly 1 time\n",
            "    8383 (1.40%) aligned >1 times\n",
            "91.37% overall alignment rate\n",
            "599461 reads; of these:\n",
            "  599461 (100.00%) were unpaired; of these:\n",
            "    49662 (8.28%) aligned 0 times\n",
            "    538560 (89.84%) aligned exactly 1 time\n",
            "    11239 (1.87%) aligned >1 times\n",
            "91.72% overall alignment rate\n",
            "600324 reads; of these:\n",
            "  600324 (100.00%) were unpaired; of these:\n",
            "    75984 (12.66%) aligned 0 times\n",
            "    514063 (85.63%) aligned exactly 1 time\n",
            "    10277 (1.71%) aligned >1 times\n",
            "87.34% overall alignment rate\n",
            "600268 reads; of these:\n",
            "  600268 (100.00%) were unpaired; of these:\n",
            "    59031 (9.83%) aligned 0 times\n",
            "    530937 (88.45%) aligned exactly 1 time\n",
            "    10300 (1.72%) aligned >1 times\n",
            "90.17% overall alignment rate\n",
            "600133 reads; of these:\n",
            "  600133 (100.00%) were unpaired; of these:\n",
            "    44719 (7.45%) aligned 0 times\n",
            "    545741 (90.94%) aligned exactly 1 time\n",
            "    9673 (1.61%) aligned >1 times\n",
            "92.55% overall alignment rate\n",
            "599414 reads; of these:\n",
            "  599414 (100.00%) were unpaired; of these:\n",
            "    43178 (7.20%) aligned 0 times\n",
            "    546906 (91.24%) aligned exactly 1 time\n",
            "    9330 (1.56%) aligned >1 times\n",
            "92.80% overall alignment rate\n"
          ]
        }
      ]
    },
    {
      "cell_type": "markdown",
      "source": [
        "7. Выберите случайно один образец"
      ],
      "metadata": {
        "id": "guWZst43pSJa"
      }
    },
    {
      "cell_type": "code",
      "source": [
        "import random\n",
        "the_sample = random.choice(['B14.5','B15.5','B17.5','B20','B34','C14.5','C15.5','C17.5','C20','C34'])\n",
        "print(the_sample)"
      ],
      "metadata": {
        "id": "1bcxQBRAEtxS",
        "colab": {
          "base_uri": "https://localhost:8080/"
        },
        "outputId": "6dc61728-f97f-4434-bfdf-9b10f0665566"
      },
      "execution_count": 12,
      "outputs": [
        {
          "output_type": "stream",
          "name": "stdout",
          "text": [
            "B14.5\n"
          ]
        }
      ]
    },
    {
      "cell_type": "markdown",
      "source": [
        "8. Сколько ридов картируется в регион 19:12485000-12490000 в этом образце?"
      ],
      "metadata": {
        "id": "M8vKAbLNpXAA"
      }
    },
    {
      "cell_type": "code",
      "source": [
        "!conda install -y -c bioconda samtools"
      ],
      "metadata": {
        "id": "qAuMf5wwM9AG",
        "colab": {
          "base_uri": "https://localhost:8080/"
        },
        "outputId": "0ae6a2ca-1a9c-4702-e945-fa985da1266d"
      },
      "execution_count": 13,
      "outputs": [
        {
          "output_type": "stream",
          "name": "stdout",
          "text": [
            "Collecting package metadata (current_repodata.json): - \b\b\\ \b\b| \b\b/ \b\b- \b\b\\ \b\b| \b\b/ \b\b- \b\b\\ \b\b| \b\b/ \b\b- \b\b\\ \b\b| \b\b/ \b\b- \b\b\\ \b\b| \b\b/ \b\b- \b\b\\ \b\b| \b\b/ \b\b- \b\b\\ \b\b| \b\b/ \b\b- \b\b\\ \b\b| \b\b/ \b\b- \b\b\\ \b\b| \b\b/ \b\b- \b\b\\ \b\b| \b\b/ \b\b- \b\b\\ \b\b| \b\b/ \b\b- \b\b\\ \b\b| \b\b/ \b\b- \b\b\\ \b\b| \b\b/ \b\b- \b\b\\ \b\b| \b\b/ \b\b- \b\b\\ \b\b| \b\b/ \b\b- \b\b\\ \b\b| \b\b/ \b\b- \b\b\\ \b\b| \b\b/ \b\b- \b\b\\ \b\b| \b\b/ \b\b- \b\b\\ \b\b| \b\b/ \b\b- \b\b\\ \b\b| \b\b/ \b\b- \b\b\\ \b\b| \b\b/ \b\b- \b\b\\ \b\b| \b\b/ \b\b- \b\b\\ \b\b| \b\b/ \b\b- \b\b\\ \b\b| \b\b/ \b\b- \b\b\\ \b\b| \b\b/ \b\b- \b\b\\ \b\b| \b\b/ \b\b- \b\b\\ \b\b| \b\b/ \b\b- \b\b\\ \b\b| \b\b/ \b\b- \b\b\\ \b\b| \b\b/ \b\b- \b\b\\ \b\b| \b\b/ \b\b- \b\b\\ \b\b| \b\b/ \b\b- \b\b\\ \b\b| \b\b/ \b\b- \b\b\\ \b\b| \b\b/ \b\b- \b\b\\ \b\b| \b\b/ \b\b- \b\b\\ \b\b| \b\b/ \b\b- \b\b\\ \b\b| \b\b/ \b\b- \b\b\\ \b\b| \b\b/ \b\b- \b\b\\ \b\b| \b\b/ \b\b- \b\b\\ \b\b| \b\b/ \b\b- \b\b\\ \b\b| \b\b/ \b\b- \b\b\\ \b\b| \b\b/ \b\b- \b\b\\ \b\b| \b\b/ \b\b- \b\b\\ \b\b| \b\b/ \b\b- \b\b\\ \b\b| \b\b/ \b\b- \b\b\\ \b\b| \b\b/ \b\b- \b\b\\ \b\bdone\n",
            "Solving environment: / \b\b- \b\b\\ \b\b| \b\b/ \b\b- \b\b\\ \b\b| \b\b/ \b\b- \b\b\\ \b\b| \b\b/ \b\b- \b\b\\ \b\b| \b\b/ \b\b- \b\b\\ \b\b| \b\b/ \b\b- \b\b\\ \b\b| \b\b/ \b\b- \b\b\\ \b\b| \b\b/ \b\b- \b\b\\ \b\b| \b\b/ \b\b- \b\b\\ \b\b| \b\b/ \b\b- \b\b\\ \b\b| \b\b/ \b\b- \b\b\\ \b\b| \b\b/ \b\b- \b\b\\ \b\b| \b\b/ \b\b- \b\b\\ \b\b| \b\b/ \b\b- \b\b\\ \b\b| \b\bdone\n",
            "\n",
            "## Package Plan ##\n",
            "\n",
            "  environment location: /usr/local\n",
            "\n",
            "  added / updated specs:\n",
            "    - samtools\n",
            "\n",
            "\n",
            "The following packages will be downloaded:\n",
            "\n",
            "    package                    |            build\n",
            "    ---------------------------|-----------------\n",
            "    samtools-1.3               |                0         1.5 MB  bioconda\n",
            "    ------------------------------------------------------------\n",
            "                                           Total:         1.5 MB\n",
            "\n",
            "The following NEW packages will be INSTALLED:\n",
            "\n",
            "  samtools           bioconda/linux-64::samtools-1.3-0 None\n",
            "\n",
            "\n",
            "\n",
            "Downloading and Extracting Packages\n",
            "samtools-1.3         | 1.5 MB    | : 100% 1.0/1 [00:00<00:00,  1.80it/s]\n",
            "Preparing transaction: - \b\bdone\n",
            "Verifying transaction: | \b\bdone\n",
            "Executing transaction: - \b\bdone\n",
            "Retrieving notices: ...working... done\n"
          ]
        }
      ]
    },
    {
      "cell_type": "code",
      "source": [
        "!samtools view -Sb {the_sample}.sam > {the_sample}.bam\n",
        "!samtools sort -o {the_sample}.s.bam {the_sample}.bam\n",
        "!samtools index {the_sample}.s.bam\n",
        "!samtools view {the_sample}.s.bam 19:12485000-12490000 | wc -l\n",
        "!samtools view {the_sample}.s.bam 19:12485000-12490000"
      ],
      "metadata": {
        "id": "oCEkjrUaQaCq",
        "colab": {
          "base_uri": "https://localhost:8080/"
        },
        "outputId": "bb6f83e4-073f-4b5a-b8c2-9e0f2fbd365d"
      },
      "execution_count": 71,
      "outputs": [
        {
          "output_type": "stream",
          "name": "stdout",
          "text": [
            "1\n",
            "HISEQ:147:C3JJAACXX:2:1307:12652:47264\t16\t19\t12487904\t60\t101M\t*\t0\t0\tTGGTTGAAAAGGCTGAGATTTGTGTATCTCCTTTCCCCTCACTATCCGATTATAATCATCCAATGTTTGCGAAACTACAATATACACTATTACTGATACTG\tDDDDDDDDDDDDDDDDDDDDEEDECDFFFHGHHJJJJJIHFJJIGJJJJJJJJIIJIJJJJJJJJJJJJJJIJGJGIJJJIJIHIHJIHHHHHFFFFD@@B\tAS:i:0\tXN:i:0\tXM:i:0\tXO:i:0\tXG:i:0\tNM:i:0\tMD:Z:101\tYT:Z:UU\tNH:i:1\n"
          ]
        }
      ]
    },
    {
      "cell_type": "markdown",
      "source": [
        "9. Сколько из них картируются только в одно место генома?"
      ],
      "metadata": {
        "id": "H4R7b6Wzpd6N"
      }
    },
    {
      "cell_type": "code",
      "source": [
        "!samtools view {the_sample}.s.bam 19:12485000-12490000 | grep 'NH:i:1' | wc -l"
      ],
      "metadata": {
        "colab": {
          "base_uri": "https://localhost:8080/"
        },
        "id": "-JJg31gxu2fx",
        "outputId": "dc6c9f6f-1d09-4be4-decc-953c4a2927da"
      },
      "execution_count": 24,
      "outputs": [
        {
          "output_type": "stream",
          "name": "stdout",
          "text": [
            "1\n"
          ]
        }
      ]
    },
    {
      "cell_type": "markdown",
      "source": [
        "10. Сколько ридов картровалось без замен? Сколько с 1, 2 и т. д. заменами?"
      ],
      "metadata": {
        "id": "1NMI_rU7wytz"
      }
    },
    {
      "cell_type": "code",
      "source": [
        "print('картировались без замен:')\n",
        "!samtools view {the_sample}.s.bam 19:12485000-12490000 | grep 'NM:i:0' | wc -l\n",
        "print('картировались с 1 заменой:')\n",
        "!samtools view {the_sample}.s.bam 19:12485000-12490000 | grep 'NM:i:1' | wc -l\n",
        "print('картировались с 2 заменами:')\n",
        "!samtools view {the_sample}.s.bam 19:12485000-12490000 | grep 'NM:i:2' | wc -l"
      ],
      "metadata": {
        "colab": {
          "base_uri": "https://localhost:8080/"
        },
        "id": "mNAt9qF0wuK5",
        "outputId": "9a6140d9-ec99-4ee9-9bd5-46259194e85b"
      },
      "execution_count": 25,
      "outputs": [
        {
          "output_type": "stream",
          "name": "stdout",
          "text": [
            "картировались без замен:\n",
            "1\n",
            "картировались с 1 заменой:\n",
            "0\n",
            "картировались с 2 заменами:\n",
            "0\n"
          ]
        }
      ]
    },
    {
      "cell_type": "markdown",
      "source": [
        "11. Сколько ридов картировалось на экзон-экзонные границы? Перечислите координаты\n",
        "всех интронов в данном интервале подтверждённых хотя бы одним ридом в формате:\n",
        "chr:from-to coverage"
      ],
      "metadata": {
        "id": "5Pu3pmvjzXdX"
      }
    },
    {
      "cell_type": "code",
      "source": [
        "!hisat2_extract_exons.py Mus_musculus.GRCm39.107.chr19.gtf > Mus_musculus.GRCm39.107.chr19.exons"
      ],
      "metadata": {
        "id": "WI-DEvIsCwks"
      },
      "execution_count": 26,
      "outputs": []
    },
    {
      "cell_type": "code",
      "source": [
        "!samtools view {the_sample}.s.bam 19:12485000-12490000 > reads_in_the_region"
      ],
      "metadata": {
        "id": "WLGK2IlP2db0"
      },
      "execution_count": 32,
      "outputs": []
    },
    {
      "cell_type": "code",
      "source": [
        "import pandas as pd\n",
        "exons = pd.DataFrame(pd.read_csv('Mus_musculus.GRCm39.107.chr19.exons', sep='\\t', index_col=False, names=['chr','from','to']))\n",
        "reads = pd.DataFrame(pd.read_csv('reads_in_the_region', sep='\\t', index_col=False, names=['QNAME', 'FLAG', 'RNAME', 'POS', 'MAPQ', 'CIGAR', 'RNEXT', 'PNEXT', 'TLEN ', 'SEQ', 'QUAL']))\n",
        "# названия столбцов для reads взяты из https://samtools.github.io/hts-specs/SAMv1.pdf\n",
        "read_position = reads.loc[:,'POS']\n",
        "\n",
        "how_many=0\n",
        "for i in reads.loc[:,'POS']:\n",
        "  exons_i = exons.loc[(exons['from']<int(i))&(exons['to']>int(i))] # найти экзон, внутрь которого попал рид\n",
        "  if not exons_i.empty:\n",
        "    how_many+=1 # подсчет ридов, картировавшихся на экзон-экзонные границы\n",
        "    print(reads.loc[reads['POS']==i,'QNAME']) # напечатать название рида\n",
        "    print('19: ',\n",
        "          exons_i.loc['to'], # напечатать начало интрона (=конец экзона)\n",
        "          exons.loc[exons['from']>int(exons_i.loc['to']), 'from']  # напечатать конец интрона (=начало следующего экзона)\n",
        "          )\n",
        "    \n",
        "print('на экзон-экзонные границы картировалось',how_many,'ридов')\n",
        "\n",
        "print(reads.shape[0]-how_many,'ридов картировалось внутрь интронов:')\n",
        "for i in reads.loc[:,'POS']:\n",
        "  intron_from = exons.loc[exons['to']<int(i)].iloc[-1,2] # найти начало интрона, внутрь которого попал рид (т.е. конец экзона, кончившегося до начала рида)\n",
        "  intron_to = exons.loc[exons['from']>int(i)].iloc[0,1]  # найти конец интрона\n",
        "  print(reads.loc[reads['POS']==i,'QNAME']) # напечатать название рида\n",
        "  print('19: ', intron_from, intron_to)"
      ],
      "metadata": {
        "colab": {
          "base_uri": "https://localhost:8080/"
        },
        "id": "SbU6eQzK0BOX",
        "outputId": "e43b7351-4106-490d-8d57-684cb32a70f6"
      },
      "execution_count": 70,
      "outputs": [
        {
          "output_type": "stream",
          "name": "stdout",
          "text": [
            "на экзон-экзонные границы картировалось 0 ридов\n",
            "1 ридов картировалось внутрь интронов:\n",
            "0    HISEQ:147:C3JJAACXX:2:1307:12652:47264\n",
            "Name: QNAME, dtype: object\n",
            "19:  12478817 12495278\n"
          ]
        },
        {
          "output_type": "stream",
          "name": "stderr",
          "text": [
            "/usr/local/lib/python3.7/dist-packages/pandas/util/_decorators.py:311: ParserWarning: Length of header or names does not match length of data. This leads to a loss of data with index_col=False.\n",
            "  return func(*args, **kwargs)\n"
          ]
        }
      ]
    }
  ]
}