{
  "nbformat": 4,
  "nbformat_minor": 0,
  "metadata": {
    "colab": {
      "provenance": [],
      "collapsed_sections": []
    },
    "kernelspec": {
      "name": "python3",
      "display_name": "Python 3"
    },
    "language_info": {
      "name": "python"
    }
  },
  "cells": [
    {
      "cell_type": "markdown",
      "source": [
        "1. Прокартируйте все образцы при помощи hisat2"
      ],
      "metadata": {
        "id": "bvKfu6PCDIZ4"
      }
    },
    {
      "cell_type": "code",
      "execution_count": null,
      "metadata": {
        "colab": {
          "base_uri": "https://localhost:8080/"
        },
        "id": "zkeLuOF-Ce4R",
        "outputId": "60fde148-18ec-4b8b-d3ae-a1f64212151a"
      },
      "outputs": [
        {
          "output_type": "stream",
          "name": "stdout",
          "text": [
            "Mounted at /content/drive\n",
            "⏬ Downloading https://github.com/jaimergp/miniforge/releases/latest/download/Mambaforge-colab-Linux-x86_64.sh...\n",
            "📦 Installing...\n",
            "📌 Adjusting configuration...\n",
            "🩹 Patching environment...\n",
            "⏲ Done in 0:00:26\n",
            "🔁 Restarting kernel...\n",
            "Collecting package metadata (current_repodata.json): - \b\b\\ \b\b| \b\b/ \b\b- \b\b\\ \b\b| \b\b/ \b\b- \b\b\\ \b\b| \b\b/ \b\b- \b\b\\ \b\b| \b\b/ \b\b- \b\b\\ \b\b| \b\b/ \b\b- \b\b\\ \b\b| \b\b/ \b\b- \b\b\\ \b\b| \b\b/ \b\b- \b\b\\ \b\b| \b\b/ \b\b- \b\b\\ \b\b| \b\b/ \b\b- \b\b\\ \b\b| \b\b/ \b\b- \b\b\\ \b\b| \b\b/ \b\b- \b\b\\ \b\b| \b\b/ \b\b- \b\b\\ \b\b| \b\b/ \b\b- \b\b\\ \b\b| \b\b/ \b\b- \b\b\\ \b\b| \b\b/ \b\b- \b\b\\ \b\b| \b\b/ \b\b- \b\b\\ \b\b| \b\b/ \b\b- \b\b\\ \b\b| \b\b/ \b\b- \b\b\\ \b\b| \b\b/ \b\b- \b\b\\ \b\b| \b\b/ \b\b- \b\b\\ \b\b| \b\b/ \b\b- \b\b\\ \b\b| \b\b/ \b\b- \b\b\\ \b\b| \b\b/ \b\b- \b\b\\ \b\b| \b\b/ \b\b- \b\b\\ \b\b| \b\b/ \b\b- \b\b\\ \b\b| \b\b/ \b\b- \b\b\\ \b\b| \b\b/ \b\b- \b\b\\ \b\b| \b\b/ \b\b- \b\b\\ \b\b| \b\b/ \b\b- \b\b\\ \b\b| \b\b/ \b\b- \b\b\\ \b\b| \b\b/ \b\b- \b\b\\ \b\b| \b\b/ \b\b- \b\b\\ \b\b| \b\b/ \b\b- \b\b\\ \b\b| \b\b/ \b\b- \b\b\\ \b\b| \b\b/ \b\b- \b\b\\ \b\b| \b\b/ \b\b- \b\b\\ \b\b| \b\b/ \b\b- \b\b\\ \b\b| \b\b/ \b\b- \b\b\\ \b\b| \b\b/ \b\b- \b\b\\ \b\b| \b\b/ \b\b- \b\b\\ \b\b| \b\b/ \b\b- \b\b\\ \b\b| \b\b/ \b\b- \b\b\\ \b\b| \b\b/ \b\b- \b\b\\ \b\b| \b\b/ \b\b- \b\b\\ \b\b| \b\b/ \b\b- \b\b\\ \b\b| \b\b/ \b\b- \b\b\\ \b\b| \b\b/ \b\b- \b\b\\ \b\b| \b\b/ \b\b- \b\b\\ \b\b| \b\b/ \b\b- \b\b\\ \b\b| \b\b/ \b\b- \b\b\\ \b\b| \b\b/ \b\b- \b\b\\ \b\bdone\n",
            "Solving environment: / \b\b- \b\b\\ \b\b| \b\b/ \b\b- \b\b\\ \b\b| \b\b/ \b\b- \b\b\\ \b\b| \b\b/ \b\b- \b\b\\ \b\b| \b\b/ \b\bdone\n",
            "\n",
            "## Package Plan ##\n",
            "\n",
            "  environment location: /usr/local\n",
            "\n",
            "  added / updated specs:\n",
            "    - hisat2\n",
            "\n",
            "\n",
            "The following packages will be downloaded:\n",
            "\n",
            "    package                    |            build\n",
            "    ---------------------------|-----------------\n",
            "    ca-certificates-2022.9.24  |       ha878542_0         150 KB  conda-forge\n",
            "    certifi-2022.9.24          |     pyhd8ed1ab_0         155 KB  conda-forge\n",
            "    conda-22.9.0               |   py37h89c1867_1         960 KB  conda-forge\n",
            "    hisat2-2.2.1               |       h87f3376_4        16.5 MB  bioconda\n",
            "    openssl-1.1.1q             |       h166bdaf_1         2.1 MB  conda-forge\n",
            "    perl-5.32.1                | 2_h7f98852_perl5        14.4 MB  conda-forge\n",
            "    ------------------------------------------------------------\n",
            "                                           Total:        34.3 MB\n",
            "\n",
            "The following NEW packages will be INSTALLED:\n",
            "\n",
            "  hisat2             bioconda/linux-64::hisat2-2.2.1-h87f3376_4\n",
            "  perl               conda-forge/linux-64::perl-5.32.1-2_h7f98852_perl5\n",
            "\n",
            "The following packages will be UPDATED:\n",
            "\n",
            "  ca-certificates                      2022.6.15-ha878542_0 --> 2022.9.24-ha878542_0\n",
            "  certifi            conda-forge/linux-64::certifi-2022.6.~ --> conda-forge/noarch::certifi-2022.9.24-pyhd8ed1ab_0\n",
            "  conda                               4.14.0-py37h89c1867_0 --> 22.9.0-py37h89c1867_1\n",
            "  openssl                                 1.1.1q-h166bdaf_0 --> 1.1.1q-h166bdaf_1\n",
            "\n",
            "\n",
            "\n",
            "Downloading and Extracting Packages\n",
            "perl-5.32.1          | 14.4 MB   | : 100% 1.0/1 [00:04<00:00,  4.25s/it]\n",
            "hisat2-2.2.1         | 16.5 MB   | : 100% 1.0/1 [00:03<00:00,  3.11s/it]\n",
            "openssl-1.1.1q       | 2.1 MB    | : 100% 1.0/1 [00:00<00:00,  2.30it/s]\n",
            "ca-certificates-2022 | 150 KB    | : 100% 1.0/1 [00:00<00:00, 12.35it/s]\n",
            "conda-22.9.0         | 960 KB    | : 100% 1.0/1 [00:00<00:00,  3.08it/s]\n",
            "certifi-2022.9.24    | 155 KB    | : 100% 1.0/1 [00:00<00:00, 16.47it/s]\n",
            "Preparing transaction: \\ \b\b| \b\bdone\n",
            "Verifying transaction: - \b\b\\ \b\b| \b\b/ \b\b- \b\b\\ \b\b| \b\b/ \b\b- \b\bdone\n",
            "Executing transaction: | \b\b/ \b\b- \b\b\\ \b\b| \b\b/ \b\b- \b\b\\ \b\b| \b\b/ \b\b- \b\b\\ \b\b| \b\b/ \b\b- \b\b\\ \b\b| \b\b/ \b\b- \b\bdone\n",
            "Retrieving notices: ...working... done\n",
            "--2022-11-01 06:51:02--  http://ftp.ensembl.org/pub/release-107/fasta/mus_musculus/dna/Mus_musculus.GRCm39.dna.chromosome.19.fa.gz\n",
            "Resolving ftp.ensembl.org (ftp.ensembl.org)... 193.62.193.139\n",
            "Connecting to ftp.ensembl.org (ftp.ensembl.org)|193.62.193.139|:80... connected.\n",
            "HTTP request sent, awaiting response... 200 OK\n",
            "Length: 17732438 (17M) [application/x-gzip]\n",
            "Saving to: ‘Mus_musculus.GRCm39.dna.chromosome.19.fa.gz’\n",
            "\n",
            "Mus_musculus.GRCm39 100%[===================>]  16.91M  13.0MB/s    in 1.3s    \n",
            "\n",
            "2022-11-01 06:51:04 (13.0 MB/s) - ‘Mus_musculus.GRCm39.dna.chromosome.19.fa.gz’ saved [17732438/17732438]\n",
            "\n",
            "--2022-11-01 06:51:04--  http://ftp.ensembl.org/pub/release-107/gtf/mus_musculus/Mus_musculus.GRCm39.107.chr.gtf.gz\n",
            "Resolving ftp.ensembl.org (ftp.ensembl.org)... 193.62.193.139\n",
            "Connecting to ftp.ensembl.org (ftp.ensembl.org)|193.62.193.139|:80... connected.\n",
            "HTTP request sent, awaiting response... 200 OK\n",
            "Length: 31854002 (30M) [application/x-gzip]\n",
            "Saving to: ‘Mus_musculus.GRCm39.107.chr.gtf.gz’\n",
            "\n",
            "Mus_musculus.GRCm39 100%[===================>]  30.38M  15.0MB/s    in 2.0s    \n",
            "\n",
            "2022-11-01 06:51:07 (15.0 MB/s) - ‘Mus_musculus.GRCm39.107.chr.gtf.gz’ saved [31854002/31854002]\n",
            "\n",
            "gzip: ./condacolab_install.log: unknown suffix -- ignored\n",
            "gzip: ./drive is a directory -- ignored\n",
            "gzip: ./sample_data is a directory -- ignored\n",
            "Settings:\n",
            "  Output files: \"Mus_musculus.GRCm39.dna.chromosome.19.*.ht2\"\n",
            "  Line rate: 6 (line is 64 bytes)\n",
            "  Lines per side: 1 (side is 64 bytes)\n",
            "  Offset rate: 4 (one in 16)\n",
            "  FTable chars: 10\n",
            "  Strings: unpacked\n",
            "  Local offset rate: 3 (one in 8)\n",
            "  Local fTable chars: 6\n",
            "  Local sequence length: 57344\n",
            "  Local sequence overlap between two consecutive indexes: 1024\n",
            "  Endianness: little\n",
            "  Actual local endianness: little\n",
            "  Sanity checking: disabled\n",
            "  Assertions: disabled\n",
            "  Random seed: 0\n",
            "  Sizeofs: void*:8, int:4, long:8, size_t:8\n",
            "Input files DNA, FASTA:\n",
            "  Mus_musculus.GRCm39.dna.chromosome.19.fa\n",
            "Reading reference sizes\n",
            "  Time reading reference sizes: 00:00:01\n",
            "Calculating joined length\n",
            "Writing header\n",
            "Reserving space for joined string\n",
            "Joining reference sequences\n",
            "  Time to join reference sequences: 00:00:00\n",
            "  Time to read SNPs and splice sites: 00:00:00\n",
            "Using parameters --bmax 10916251 --dcv 1024\n",
            "  Doing ahead-of-time memory usage test\n",
            "  Passed!  Constructing with these parameters: --bmax 10916251 --dcv 1024\n",
            "Constructing suffix-array element generator\n",
            "Building DifferenceCoverSample\n",
            "  Building sPrime\n",
            "  Building sPrimeOrder\n",
            "  V-Sorting samples\n",
            "  V-Sorting samples time: 00:00:01\n",
            "  Allocating rank array\n",
            "  Ranking v-sort output\n",
            "  Ranking v-sort output time: 00:00:00\n",
            "  Invoking Larsson-Sadakane on ranks\n",
            "  Invoking Larsson-Sadakane on ranks time: 00:00:01\n",
            "  Sanity-checking and returning\n",
            "Building samples\n",
            "Reserving space for 12 sample suffixes\n",
            "Generating random suffixes\n",
            "QSorting 12 sample offsets, eliminating duplicates\n",
            "QSorting sample offsets, eliminating duplicates time: 00:00:00\n",
            "Multikey QSorting 12 samples\n",
            "  (Using difference cover)\n",
            "  Multikey QSorting samples time: 00:00:00\n",
            "Calculating bucket sizes\n",
            "Splitting and merging\n",
            "  Splitting and merging time: 00:00:00\n",
            "Avg bucket size: 8.31714e+06 (target: 10916250)\n",
            "Converting suffix-array elements to index image\n",
            "Allocating ftab, absorbFtab\n",
            "Entering GFM loop\n",
            "Getting block 1 of 7\n",
            "  Reserving size (10916251) for bucket 1\n",
            "  Calculating Z arrays for bucket 1\n",
            "  Entering block accumulator loop for bucket 1:\n",
            "  bucket 1: 10%\n",
            "  bucket 1: 20%\n",
            "  bucket 1: 30%\n",
            "  bucket 1: 40%\n",
            "  bucket 1: 50%\n",
            "  bucket 1: 60%\n",
            "  bucket 1: 70%\n",
            "  bucket 1: 80%\n",
            "  bucket 1: 90%\n",
            "  bucket 1: 100%\n",
            "  Sorting block of length 8286876 for bucket 1\n",
            "  (Using difference cover)\n",
            "  Sorting block time: 00:00:03\n",
            "Returning block of 8286877 for bucket 1\n",
            "Getting block 2 of 7\n",
            "  Reserving size (10916251) for bucket 2\n",
            "  Calculating Z arrays for bucket 2\n",
            "  Entering block accumulator loop for bucket 2:\n",
            "  bucket 2: 10%\n",
            "  bucket 2: 20%\n",
            "  bucket 2: 30%\n",
            "  bucket 2: 40%\n",
            "  bucket 2: 50%\n",
            "  bucket 2: 60%\n",
            "  bucket 2: 70%\n",
            "  bucket 2: 80%\n",
            "  bucket 2: 90%\n",
            "  bucket 2: 100%\n",
            "  Sorting block of length 10857377 for bucket 2\n",
            "  (Using difference cover)\n",
            "  Sorting block time: 00:00:04\n",
            "Returning block of 10857378 for bucket 2\n",
            "Getting block 3 of 7\n",
            "  Reserving size (10916251) for bucket 3\n",
            "  Calculating Z arrays for bucket 3\n",
            "  Entering block accumulator loop for bucket 3:\n",
            "  bucket 3: 10%\n",
            "  bucket 3: 20%\n",
            "  bucket 3: 30%\n",
            "  bucket 3: 40%\n",
            "  bucket 3: 50%\n",
            "  bucket 3: 60%\n",
            "  bucket 3: 70%\n",
            "  bucket 3: 80%\n",
            "  bucket 3: 90%\n",
            "  bucket 3: 100%\n",
            "  Sorting block of length 10554111 for bucket 3\n",
            "  (Using difference cover)\n",
            "  Sorting block time: 00:00:04\n",
            "Returning block of 10554112 for bucket 3\n",
            "Getting block 4 of 7\n",
            "  Reserving size (10916251) for bucket 4\n",
            "  Calculating Z arrays for bucket 4\n",
            "  Entering block accumulator loop for bucket 4:\n",
            "  bucket 4: 10%\n",
            "  bucket 4: 20%\n",
            "  bucket 4: 30%\n",
            "  bucket 4: 40%\n",
            "  bucket 4: 50%\n",
            "  bucket 4: 60%\n",
            "  bucket 4: 70%\n",
            "  bucket 4: 80%\n",
            "  bucket 4: 90%\n",
            "  bucket 4: 100%\n",
            "  Sorting block of length 4600643 for bucket 4\n",
            "  (Using difference cover)\n",
            "  Sorting block time: 00:00:02\n",
            "Returning block of 4600644 for bucket 4\n",
            "Getting block 5 of 7\n",
            "  Reserving size (10916251) for bucket 5\n",
            "  Calculating Z arrays for bucket 5\n",
            "  Entering block accumulator loop for bucket 5:\n",
            "  bucket 5: 10%\n",
            "  bucket 5: 20%\n",
            "  bucket 5: 30%\n",
            "  bucket 5: 40%\n",
            "  bucket 5: 50%\n",
            "  bucket 5: 60%\n",
            "  bucket 5: 70%\n",
            "  bucket 5: 80%\n",
            "  bucket 5: 90%\n",
            "  bucket 5: 100%\n",
            "  Sorting block of length 7464214 for bucket 5\n",
            "  (Using difference cover)\n",
            "  Sorting block time: 00:00:02\n",
            "Returning block of 7464215 for bucket 5\n",
            "Getting block 6 of 7\n",
            "  Reserving size (10916251) for bucket 6\n",
            "  Calculating Z arrays for bucket 6\n",
            "  Entering block accumulator loop for bucket 6:\n",
            "  bucket 6: 10%\n",
            "  bucket 6: 20%\n",
            "  bucket 6: 30%\n",
            "  bucket 6: 40%\n",
            "  bucket 6: 50%\n",
            "  bucket 6: 60%\n",
            "  bucket 6: 70%\n",
            "  bucket 6: 80%\n",
            "  bucket 6: 90%\n",
            "  bucket 6: 100%\n",
            "  Sorting block of length 8905610 for bucket 6\n",
            "  (Using difference cover)\n",
            "  Sorting block time: 00:00:04\n",
            "Returning block of 8905611 for bucket 6\n",
            "Getting block 7 of 7\n",
            "  Reserving size (10916251) for bucket 7\n",
            "  Calculating Z arrays for bucket 7\n",
            "  Entering block accumulator loop for bucket 7:\n",
            "  bucket 7: 10%\n",
            "  bucket 7: 20%\n",
            "  bucket 7: 30%\n",
            "  bucket 7: 40%\n",
            "  bucket 7: 50%\n",
            "  bucket 7: 60%\n",
            "  bucket 7: 70%\n",
            "  bucket 7: 80%\n",
            "  bucket 7: 90%\n",
            "  bucket 7: 100%\n",
            "  Sorting block of length 7551167 for bucket 7\n",
            "  (Using difference cover)\n",
            "  Sorting block time: 00:00:03\n",
            "Returning block of 7551168 for bucket 7\n",
            "Exited GFM loop\n",
            "fchr[A]: 0\n",
            "fchr[C]: 16736386\n",
            "fchr[G]: 29189141\n",
            "fchr[T]: 41613507\n",
            "fchr[$]: 58220004\n",
            "Exiting GFM::buildToDisk()\n",
            "Returning from initFromVector\n",
            "Wrote 23601273 bytes to primary GFM file: Mus_musculus.GRCm39.dna.chromosome.19.1.ht2\n",
            "Wrote 14555008 bytes to secondary GFM file: Mus_musculus.GRCm39.dna.chromosome.19.2.ht2\n",
            "Re-opening _in1 and _in2 as input streams\n",
            "Returning from GFM constructor\n",
            "Returning from initFromVector\n",
            "Wrote 25557013 bytes to primary GFM file: Mus_musculus.GRCm39.dna.chromosome.19.5.ht2\n",
            "Wrote 14821520 bytes to secondary GFM file: Mus_musculus.GRCm39.dna.chromosome.19.6.ht2\n",
            "Re-opening _in5 and _in5 as input streams\n",
            "Returning from HGFM constructor\n",
            "Headers:\n",
            "    len: 58220004\n",
            "    gbwtLen: 58220005\n",
            "    nodes: 58220005\n",
            "    sz: 14555001\n",
            "    gbwtSz: 14555002\n",
            "    lineRate: 6\n",
            "    offRate: 4\n",
            "    offMask: 0xfffffff0\n",
            "    ftabChars: 10\n",
            "    eftabLen: 0\n",
            "    eftabSz: 0\n",
            "    ftabLen: 1048577\n",
            "    ftabSz: 4194308\n",
            "    offsLen: 3638751\n",
            "    offsSz: 14555004\n",
            "    lineSz: 64\n",
            "    sideSz: 64\n",
            "    sideGbwtSz: 48\n",
            "    sideGbwtLen: 192\n",
            "    numSides: 303230\n",
            "    numLines: 303230\n",
            "    gbwtTotLen: 19406720\n",
            "    gbwtTotSz: 19406720\n",
            "    reverse: 0\n",
            "    linearFM: Yes\n",
            "Total time for call to driver() for forward index: 00:00:50\n",
            "599672 reads; of these:\n",
            "  599672 (100.00%) were unpaired; of these:\n",
            "    46932 (7.83%) aligned 0 times\n",
            "    540477 (90.13%) aligned exactly 1 time\n",
            "    12263 (2.04%) aligned >1 times\n",
            "92.17% overall alignment rate\n",
            "599345 reads; of these:\n",
            "  599345 (100.00%) were unpaired; of these:\n",
            "    70738 (11.80%) aligned 0 times\n",
            "    517132 (86.28%) aligned exactly 1 time\n",
            "    11475 (1.91%) aligned >1 times\n",
            "88.20% overall alignment rate\n",
            "600006 reads; of these:\n",
            "  600006 (100.00%) were unpaired; of these:\n",
            "    74975 (12.50%) aligned 0 times\n",
            "    515423 (85.90%) aligned exactly 1 time\n",
            "    9608 (1.60%) aligned >1 times\n",
            "87.50% overall alignment rate\n",
            "599777 reads; of these:\n",
            "  599777 (100.00%) were unpaired; of these:\n",
            "    51084 (8.52%) aligned 0 times\n",
            "    538301 (89.75%) aligned exactly 1 time\n",
            "    10392 (1.73%) aligned >1 times\n",
            "91.48% overall alignment rate\n",
            "599683 reads; of these:\n",
            "  599683 (100.00%) were unpaired; of these:\n",
            "    51757 (8.63%) aligned 0 times\n",
            "    539543 (89.97%) aligned exactly 1 time\n",
            "    8383 (1.40%) aligned >1 times\n",
            "91.37% overall alignment rate\n",
            "599461 reads; of these:\n",
            "  599461 (100.00%) were unpaired; of these:\n",
            "    49662 (8.28%) aligned 0 times\n",
            "    538560 (89.84%) aligned exactly 1 time\n",
            "    11239 (1.87%) aligned >1 times\n",
            "91.72% overall alignment rate\n",
            "600324 reads; of these:\n",
            "  600324 (100.00%) were unpaired; of these:\n",
            "    75984 (12.66%) aligned 0 times\n",
            "    514063 (85.63%) aligned exactly 1 time\n",
            "    10277 (1.71%) aligned >1 times\n",
            "87.34% overall alignment rate\n",
            "600268 reads; of these:\n",
            "  600268 (100.00%) were unpaired; of these:\n",
            "    59031 (9.83%) aligned 0 times\n",
            "    530937 (88.45%) aligned exactly 1 time\n",
            "    10300 (1.72%) aligned >1 times\n",
            "90.17% overall alignment rate\n",
            "600133 reads; of these:\n",
            "  600133 (100.00%) were unpaired; of these:\n",
            "    44719 (7.45%) aligned 0 times\n",
            "    545741 (90.94%) aligned exactly 1 time\n",
            "    9673 (1.61%) aligned >1 times\n",
            "92.55% overall alignment rate\n",
            "599414 reads; of these:\n",
            "  599414 (100.00%) were unpaired; of these:\n",
            "    43178 (7.20%) aligned 0 times\n",
            "    546906 (91.24%) aligned exactly 1 time\n",
            "    9330 (1.56%) aligned >1 times\n",
            "92.80% overall alignment rate\n"
          ]
        }
      ],
      "source": [
        "from google.colab import drive\n",
        "drive.mount('/content/drive')\n",
        "\n",
        "!pip install -q condacolab\n",
        "import condacolab\n",
        "condacolab.install()\n",
        "!conda install -y -c bioconda hisat2\n",
        "\n",
        "!wget http://ftp.ensembl.org/pub/release-107/fasta/mus_musculus/dna/Mus_musculus.GRCm39.dna.chromosome.19.fa.gz\n",
        "!wget http://ftp.ensembl.org/pub/release-107/gtf/mus_musculus/Mus_musculus.GRCm39.107.chr.gtf.gz\n",
        "!gunzip ./*\n",
        "\n",
        "!grep -P '^19\\t' Mus_musculus.GRCm39.107.chr.gtf > Mus_musculus.GRCm39.107.chr19.gtf\n",
        "\n",
        "!hisat2-build Mus_musculus.GRCm39.dna.chromosome.19.fa Mus_musculus.GRCm39.dna.chromosome.19\n",
        "\n",
        "!hisat2_extract_splice_sites.py Mus_musculus.GRCm39.107.chr19.gtf > Mus_musculus.GRCm39.107.chr19.ss\n",
        "for i in ['B14.5','B15.5','B17.5','B20','B34','C14.5','C15.5','C17.5','C20','C34']:\n",
        "  !hisat2 --no-softclip --known-splicesite-infile Mus_musculus.GRCm39.107.chr19.ss -x Mus_musculus.GRCm39.dna.chromosome.19 -U ./drive/MyDrive/NGS/rna.seq.data/{i}.fq.gz -S {i}.sam"
      ]
    },
    {
      "cell_type": "markdown",
      "source": [
        "2. Соберите транскрипты при помощи stringtie для каждого образца\n",
        "используя аннотацию из ensembl (-G)"
      ],
      "metadata": {
        "id": "G57XdV3oDI-5"
      }
    },
    {
      "cell_type": "code",
      "source": [
        "!conda install -y -c bioconda samtools\n",
        "!conda install -y -c bioconda stringtie\n",
        "\n",
        "for i in ['B14.5','B15.5','B17.5','B20','B34','C14.5','C15.5','C17.5','C20','C34']:\n",
        "  !samtools view -Sb {i}.sam > {i}.bam\n",
        "  !samtools sort -m 500M -o {i}.s.bam {i}.bam"
      ],
      "metadata": {
        "colab": {
          "base_uri": "https://localhost:8080/"
        },
        "id": "JnOBdTydDYnL",
        "outputId": "a7f48298-f56b-4f3d-bf49-042542cac582"
      },
      "execution_count": null,
      "outputs": [
        {
          "output_type": "stream",
          "name": "stdout",
          "text": [
            "Collecting package metadata (current_repodata.json): - \b\b\\ \b\b| \b\b/ \b\b- \b\b\\ \b\b| \b\b/ \b\b- \b\b\\ \b\b| \b\b/ \b\b- \b\b\\ \b\b| \b\b/ \b\b- \b\b\\ \b\b| \b\b/ \b\b- \b\b\\ \b\b| \b\bdone\n",
            "Solving environment: - \b\b\\ \b\b| \b\b/ \b\b- \b\b\\ \b\b| \b\b/ \b\b- \b\b\\ \b\b| \b\b/ \b\b- \b\b\\ \b\b| \b\b/ \b\b- \b\b\\ \b\b| \b\b/ \b\b- \b\b\\ \b\b| \b\b/ \b\b- \b\b\\ \b\b| \b\b/ \b\b- \b\bdone\n",
            "\n",
            "## Package Plan ##\n",
            "\n",
            "  environment location: /usr/local\n",
            "\n",
            "  added / updated specs:\n",
            "    - samtools\n",
            "\n",
            "\n",
            "The following packages will be downloaded:\n",
            "\n",
            "    package                    |            build\n",
            "    ---------------------------|-----------------\n",
            "    samtools-1.3               |                0         1.5 MB  bioconda\n",
            "    ------------------------------------------------------------\n",
            "                                           Total:         1.5 MB\n",
            "\n",
            "The following NEW packages will be INSTALLED:\n",
            "\n",
            "  samtools           bioconda/linux-64::samtools-1.3-0 None\n",
            "\n",
            "\n",
            "\n",
            "Downloading and Extracting Packages\n",
            "samtools-1.3         | 1.5 MB    | : 100% 1.0/1 [00:00<00:00,  2.22it/s]\n",
            "Preparing transaction: | \b\bdone\n",
            "Verifying transaction: - \b\bdone\n",
            "Executing transaction: | \b\bdone\n",
            "Retrieving notices: ...working... done\n",
            "Collecting package metadata (current_repodata.json): - \b\b\\ \b\b| \b\b/ \b\b- \b\b\\ \b\b| \b\b/ \b\b- \b\b\\ \b\b| \b\b/ \b\b- \b\b\\ \b\b| \b\b/ \b\b- \b\b\\ \b\b| \b\b/ \b\b- \b\b\\ \b\b| \b\bdone\n",
            "Solving environment: - \b\b\\ \b\b| \b\b/ \b\b- \b\b\\ \b\b| \b\b/ \b\b- \b\b\\ \b\b| \b\b/ \b\b- \b\b\\ \b\b| \b\b/ \b\b- \b\b\\ \b\b| \b\b/ \b\b- \b\b\\ \b\b| \b\b/ \b\b- \b\b\\ \b\b| \b\b/ \b\b- \b\b\\ \b\b| \b\b/ \b\b- \b\b\\ \b\b| \b\b/ \b\b- \b\b\\ \b\b| \b\b/ \b\b- \b\b\\ \b\b| \b\b/ \b\bdone\n",
            "\n",
            "## Package Plan ##\n",
            "\n",
            "  environment location: /usr/local\n",
            "\n",
            "  added / updated specs:\n",
            "    - stringtie\n",
            "\n",
            "\n",
            "The following packages will be downloaded:\n",
            "\n",
            "    package                    |            build\n",
            "    ---------------------------|-----------------\n",
            "    htslib-1.16                |       h6bc39ce_0         2.3 MB  bioconda\n",
            "    libdeflate-1.13            |       h166bdaf_0          79 KB  conda-forge\n",
            "    libzlib-1.2.13             |       h166bdaf_4          64 KB  conda-forge\n",
            "    stringtie-2.2.1            |       ha04fe3b_3         355 KB  bioconda\n",
            "    zlib-1.2.13                |       h166bdaf_4          92 KB  conda-forge\n",
            "    ------------------------------------------------------------\n",
            "                                           Total:         2.9 MB\n",
            "\n",
            "The following NEW packages will be INSTALLED:\n",
            "\n",
            "  htslib             bioconda/linux-64::htslib-1.16-h6bc39ce_0 None\n",
            "  libdeflate         conda-forge/linux-64::libdeflate-1.13-h166bdaf_0 None\n",
            "  stringtie          bioconda/linux-64::stringtie-2.2.1-ha04fe3b_3 None\n",
            "  zlib               conda-forge/linux-64::zlib-1.2.13-h166bdaf_4 None\n",
            "\n",
            "The following packages will be UPDATED:\n",
            "\n",
            "  libzlib                                 1.2.12-h166bdaf_2 --> 1.2.13-h166bdaf_4 None\n",
            "\n",
            "\n",
            "\n",
            "Downloading and Extracting Packages\n",
            "zlib-1.2.13          | 92 KB     | : 100% 1.0/1 [00:00<00:00,  7.90it/s]               \n",
            "htslib-1.16          | 2.3 MB    | : 100% 1.0/1 [00:00<00:00,  2.17it/s]\n",
            "libdeflate-1.13      | 79 KB     | : 100% 1.0/1 [00:00<00:00, 19.28it/s]\n",
            "stringtie-2.2.1      | 355 KB    | : 100% 1.0/1 [00:00<00:00,  8.17it/s]\n",
            "libzlib-1.2.13       | 64 KB     | : 100% 1.0/1 [00:00<00:00, 20.22it/s]\n",
            "Preparing transaction: \\ \b\bdone\n",
            "Verifying transaction: / \b\bdone\n",
            "Executing transaction: \\ \b\bdone\n",
            "Retrieving notices: ...working... done\n"
          ]
        }
      ]
    },
    {
      "cell_type": "code",
      "source": [
        "for i in ['B14.5','B15.5','B17.5','B20','B34','C14.5','C15.5','C17.5','C20','C34']:\n",
        "  !stringtie {i}.s.bam -o {i}.gtf -G Mus_musculus.GRCm39.107.chr19.gtf"
      ],
      "metadata": {
        "id": "xbXLaSypFPBB"
      },
      "execution_count": null,
      "outputs": []
    },
    {
      "cell_type": "code",
      "source": [
        "!ls -1 ./*gtf > gtf.list\n",
        "!stringtie --merge gtf.list -G Mus_musculus.GRCm39.107.chr19.gtf -o merged.gtf"
      ],
      "metadata": {
        "id": "gIMN1rEhIgss"
      },
      "execution_count": null,
      "outputs": []
    },
    {
      "cell_type": "markdown",
      "source": [
        "3. Перекартируйте риды используя новую аннотацию"
      ],
      "metadata": {
        "id": "BASGEu6nLrXu"
      }
    },
    {
      "cell_type": "code",
      "source": [
        "!hisat2_extract_splice_sites.py merged.gtf > merged.ss\n",
        "\n",
        "for i in ['B14.5','B15.5','B17.5','B20','B34','C14.5','C15.5','C17.5','C20','C34']:\n",
        "  !hisat2 --no-softclip --known-splicesite-infile merged.ss -x Mus_musculus.GRCm39.dna.chromosome.19 -U ./drive/MyDrive/NGS/rna.seq.data/{i}.fq.gz -S {i}.stringtie.sam"
      ],
      "metadata": {
        "id": "CsJfFk89LuB8",
        "colab": {
          "base_uri": "https://localhost:8080/"
        },
        "outputId": "d98261c5-1474-471c-9cd9-b7e330d10498"
      },
      "execution_count": null,
      "outputs": [
        {
          "output_type": "stream",
          "name": "stdout",
          "text": [
            "599672 reads; of these:\n",
            "  599672 (100.00%) were unpaired; of these:\n",
            "    46863 (7.81%) aligned 0 times\n",
            "    540444 (90.12%) aligned exactly 1 time\n",
            "    12365 (2.06%) aligned >1 times\n",
            "92.19% overall alignment rate\n",
            "599345 reads; of these:\n",
            "  599345 (100.00%) were unpaired; of these:\n",
            "    70663 (11.79%) aligned 0 times\n",
            "    517109 (86.28%) aligned exactly 1 time\n",
            "    11573 (1.93%) aligned >1 times\n",
            "88.21% overall alignment rate\n",
            "600006 reads; of these:\n",
            "  600006 (100.00%) were unpaired; of these:\n",
            "    74928 (12.49%) aligned 0 times\n",
            "    515369 (85.89%) aligned exactly 1 time\n",
            "    9709 (1.62%) aligned >1 times\n",
            "87.51% overall alignment rate\n",
            "599777 reads; of these:\n",
            "  599777 (100.00%) were unpaired; of these:\n",
            "    51008 (8.50%) aligned 0 times\n",
            "    538245 (89.74%) aligned exactly 1 time\n",
            "    10524 (1.75%) aligned >1 times\n",
            "91.50% overall alignment rate\n",
            "599683 reads; of these:\n",
            "  599683 (100.00%) were unpaired; of these:\n",
            "    51701 (8.62%) aligned 0 times\n",
            "    539461 (89.96%) aligned exactly 1 time\n",
            "    8521 (1.42%) aligned >1 times\n",
            "91.38% overall alignment rate\n",
            "599461 reads; of these:\n",
            "  599461 (100.00%) were unpaired; of these:\n",
            "    49586 (8.27%) aligned 0 times\n",
            "    538466 (89.83%) aligned exactly 1 time\n",
            "    11409 (1.90%) aligned >1 times\n",
            "91.73% overall alignment rate\n",
            "600324 reads; of these:\n",
            "  600324 (100.00%) were unpaired; of these:\n",
            "    75917 (12.65%) aligned 0 times\n",
            "    513936 (85.61%) aligned exactly 1 time\n",
            "    10471 (1.74%) aligned >1 times\n",
            "87.35% overall alignment rate\n",
            "600268 reads; of these:\n",
            "  600268 (100.00%) were unpaired; of these:\n",
            "    58978 (9.83%) aligned 0 times\n",
            "    530817 (88.43%) aligned exactly 1 time\n",
            "    10473 (1.74%) aligned >1 times\n",
            "90.17% overall alignment rate\n",
            "600133 reads; of these:\n",
            "  600133 (100.00%) were unpaired; of these:\n",
            "    44673 (7.44%) aligned 0 times\n",
            "    545668 (90.92%) aligned exactly 1 time\n",
            "    9792 (1.63%) aligned >1 times\n",
            "92.56% overall alignment rate\n",
            "599414 reads; of these:\n",
            "  599414 (100.00%) were unpaired; of these:\n",
            "    43122 (7.19%) aligned 0 times\n",
            "    546701 (91.21%) aligned exactly 1 time\n",
            "    9591 (1.60%) aligned >1 times\n",
            "92.81% overall alignment rate\n"
          ]
        }
      ]
    },
    {
      "cell_type": "code",
      "source": [
        "for i in ['B14.5','B15.5','B17.5','B20','B34','C14.5','C15.5','C17.5','C20','C34']:\n",
        "  !samtools view -Sb {i}.stringtie.sam > {i}.stringtie.bam\n",
        "  !samtools sort -o {i}.stringtie.s.bam {i}.stringtie.bam\n",
        "  !samtools index {i}.stringtie.s.bam"
      ],
      "metadata": {
        "id": "3h8eSsGiEc4P"
      },
      "execution_count": null,
      "outputs": []
    },
    {
      "cell_type": "markdown",
      "source": [
        "5. Постройте PCA и heatmap (коэффициент корреляции Спирмана)\n",
        "для образцов"
      ],
      "metadata": {
        "id": "tJtk2t-IzynG"
      }
    },
    {
      "cell_type": "code",
      "source": [
        "import pandas as pd\n",
        "df=pd.DataFrame(pd.read_csv('empty_genes.tsv', sep='\\t', index_col='GeneID'))\n",
        "\n",
        "for i in ['B14.5','B15.5','B17.5','B20','B34','C14.5','C15.5','C17.5','C20','C34']:\n",
        "  tsvfile=i+'.tsv'\n",
        "  df_i=pd.DataFrame(pd.read_csv(tsvfile, sep='\\t', index_col='GeneID'))\n",
        "  expr_column=i+'.stringtie.s.bam'\n",
        "  df=pd.concat([df, df_i.loc[:,expr_column]], axis=1)\n",
        "\n",
        "df.fillna(0, inplace=True)\n",
        "df.drop(columns='Length', inplace=True)\n",
        "df.to_csv('GenewiseCounts.csv')"
      ],
      "metadata": {
        "id": "ghYYNMMbz0IY"
      },
      "execution_count": null,
      "outputs": []
    },
    {
      "cell_type": "code",
      "source": [
        "df_corr=df.corr(method='spearman')\n",
        "df_corr.head()"
      ],
      "metadata": {
        "colab": {
          "base_uri": "https://localhost:8080/",
          "height": 270
        },
        "id": "g65dCtu6ePeR",
        "outputId": "f9eff32f-09fd-4aff-af88-38d3a0463e7a"
      },
      "execution_count": null,
      "outputs": [
        {
          "output_type": "execute_result",
          "data": {
            "text/plain": [
              "                       B14.5.stringtie.s.bam  B15.5.stringtie.s.bam  \\\n",
              "B14.5.stringtie.s.bam               1.000000               0.939663   \n",
              "B15.5.stringtie.s.bam               0.939663               1.000000   \n",
              "B17.5.stringtie.s.bam               0.927209               0.934060   \n",
              "B20.stringtie.s.bam                 0.924820               0.935633   \n",
              "B34.stringtie.s.bam                 0.907499               0.912117   \n",
              "\n",
              "                       B17.5.stringtie.s.bam  B20.stringtie.s.bam  \\\n",
              "B14.5.stringtie.s.bam               0.927209             0.924820   \n",
              "B15.5.stringtie.s.bam               0.934060             0.935633   \n",
              "B17.5.stringtie.s.bam               1.000000             0.934468   \n",
              "B20.stringtie.s.bam                 0.934468             1.000000   \n",
              "B34.stringtie.s.bam                 0.910168             0.918066   \n",
              "\n",
              "                       B34.stringtie.s.bam  C14.5.stringtie.s.bam  \\\n",
              "B14.5.stringtie.s.bam             0.907499               0.919674   \n",
              "B15.5.stringtie.s.bam             0.912117               0.924463   \n",
              "B17.5.stringtie.s.bam             0.910168               0.926357   \n",
              "B20.stringtie.s.bam               0.918066               0.924835   \n",
              "B34.stringtie.s.bam               1.000000               0.910766   \n",
              "\n",
              "                       C15.5.stringtie.s.bam  C17.5.stringtie.s.bam  \\\n",
              "B14.5.stringtie.s.bam               0.918106               0.913568   \n",
              "B15.5.stringtie.s.bam               0.917802               0.918325   \n",
              "B17.5.stringtie.s.bam               0.927822               0.915281   \n",
              "B20.stringtie.s.bam                 0.926329               0.919232   \n",
              "B34.stringtie.s.bam                 0.899124               0.900465   \n",
              "\n",
              "                       C20.stringtie.s.bam  C34.stringtie.s.bam  \n",
              "B14.5.stringtie.s.bam             0.921220             0.909418  \n",
              "B15.5.stringtie.s.bam             0.919936             0.915049  \n",
              "B17.5.stringtie.s.bam             0.923960             0.914141  \n",
              "B20.stringtie.s.bam               0.934501             0.921952  \n",
              "B34.stringtie.s.bam               0.916666             0.913023  "
            ],
            "text/html": [
              "\n",
              "  <div id=\"df-891aabfb-4ee0-4110-a6ae-00ba9a7f55d7\">\n",
              "    <div class=\"colab-df-container\">\n",
              "      <div>\n",
              "<style scoped>\n",
              "    .dataframe tbody tr th:only-of-type {\n",
              "        vertical-align: middle;\n",
              "    }\n",
              "\n",
              "    .dataframe tbody tr th {\n",
              "        vertical-align: top;\n",
              "    }\n",
              "\n",
              "    .dataframe thead th {\n",
              "        text-align: right;\n",
              "    }\n",
              "</style>\n",
              "<table border=\"1\" class=\"dataframe\">\n",
              "  <thead>\n",
              "    <tr style=\"text-align: right;\">\n",
              "      <th></th>\n",
              "      <th>B14.5.stringtie.s.bam</th>\n",
              "      <th>B15.5.stringtie.s.bam</th>\n",
              "      <th>B17.5.stringtie.s.bam</th>\n",
              "      <th>B20.stringtie.s.bam</th>\n",
              "      <th>B34.stringtie.s.bam</th>\n",
              "      <th>C14.5.stringtie.s.bam</th>\n",
              "      <th>C15.5.stringtie.s.bam</th>\n",
              "      <th>C17.5.stringtie.s.bam</th>\n",
              "      <th>C20.stringtie.s.bam</th>\n",
              "      <th>C34.stringtie.s.bam</th>\n",
              "    </tr>\n",
              "  </thead>\n",
              "  <tbody>\n",
              "    <tr>\n",
              "      <th>B14.5.stringtie.s.bam</th>\n",
              "      <td>1.000000</td>\n",
              "      <td>0.939663</td>\n",
              "      <td>0.927209</td>\n",
              "      <td>0.924820</td>\n",
              "      <td>0.907499</td>\n",
              "      <td>0.919674</td>\n",
              "      <td>0.918106</td>\n",
              "      <td>0.913568</td>\n",
              "      <td>0.921220</td>\n",
              "      <td>0.909418</td>\n",
              "    </tr>\n",
              "    <tr>\n",
              "      <th>B15.5.stringtie.s.bam</th>\n",
              "      <td>0.939663</td>\n",
              "      <td>1.000000</td>\n",
              "      <td>0.934060</td>\n",
              "      <td>0.935633</td>\n",
              "      <td>0.912117</td>\n",
              "      <td>0.924463</td>\n",
              "      <td>0.917802</td>\n",
              "      <td>0.918325</td>\n",
              "      <td>0.919936</td>\n",
              "      <td>0.915049</td>\n",
              "    </tr>\n",
              "    <tr>\n",
              "      <th>B17.5.stringtie.s.bam</th>\n",
              "      <td>0.927209</td>\n",
              "      <td>0.934060</td>\n",
              "      <td>1.000000</td>\n",
              "      <td>0.934468</td>\n",
              "      <td>0.910168</td>\n",
              "      <td>0.926357</td>\n",
              "      <td>0.927822</td>\n",
              "      <td>0.915281</td>\n",
              "      <td>0.923960</td>\n",
              "      <td>0.914141</td>\n",
              "    </tr>\n",
              "    <tr>\n",
              "      <th>B20.stringtie.s.bam</th>\n",
              "      <td>0.924820</td>\n",
              "      <td>0.935633</td>\n",
              "      <td>0.934468</td>\n",
              "      <td>1.000000</td>\n",
              "      <td>0.918066</td>\n",
              "      <td>0.924835</td>\n",
              "      <td>0.926329</td>\n",
              "      <td>0.919232</td>\n",
              "      <td>0.934501</td>\n",
              "      <td>0.921952</td>\n",
              "    </tr>\n",
              "    <tr>\n",
              "      <th>B34.stringtie.s.bam</th>\n",
              "      <td>0.907499</td>\n",
              "      <td>0.912117</td>\n",
              "      <td>0.910168</td>\n",
              "      <td>0.918066</td>\n",
              "      <td>1.000000</td>\n",
              "      <td>0.910766</td>\n",
              "      <td>0.899124</td>\n",
              "      <td>0.900465</td>\n",
              "      <td>0.916666</td>\n",
              "      <td>0.913023</td>\n",
              "    </tr>\n",
              "  </tbody>\n",
              "</table>\n",
              "</div>\n",
              "      <button class=\"colab-df-convert\" onclick=\"convertToInteractive('df-891aabfb-4ee0-4110-a6ae-00ba9a7f55d7')\"\n",
              "              title=\"Convert this dataframe to an interactive table.\"\n",
              "              style=\"display:none;\">\n",
              "        \n",
              "  <svg xmlns=\"http://www.w3.org/2000/svg\" height=\"24px\"viewBox=\"0 0 24 24\"\n",
              "       width=\"24px\">\n",
              "    <path d=\"M0 0h24v24H0V0z\" fill=\"none\"/>\n",
              "    <path d=\"M18.56 5.44l.94 2.06.94-2.06 2.06-.94-2.06-.94-.94-2.06-.94 2.06-2.06.94zm-11 1L8.5 8.5l.94-2.06 2.06-.94-2.06-.94L8.5 2.5l-.94 2.06-2.06.94zm10 10l.94 2.06.94-2.06 2.06-.94-2.06-.94-.94-2.06-.94 2.06-2.06.94z\"/><path d=\"M17.41 7.96l-1.37-1.37c-.4-.4-.92-.59-1.43-.59-.52 0-1.04.2-1.43.59L10.3 9.45l-7.72 7.72c-.78.78-.78 2.05 0 2.83L4 21.41c.39.39.9.59 1.41.59.51 0 1.02-.2 1.41-.59l7.78-7.78 2.81-2.81c.8-.78.8-2.07 0-2.86zM5.41 20L4 18.59l7.72-7.72 1.47 1.35L5.41 20z\"/>\n",
              "  </svg>\n",
              "      </button>\n",
              "      \n",
              "  <style>\n",
              "    .colab-df-container {\n",
              "      display:flex;\n",
              "      flex-wrap:wrap;\n",
              "      gap: 12px;\n",
              "    }\n",
              "\n",
              "    .colab-df-convert {\n",
              "      background-color: #E8F0FE;\n",
              "      border: none;\n",
              "      border-radius: 50%;\n",
              "      cursor: pointer;\n",
              "      display: none;\n",
              "      fill: #1967D2;\n",
              "      height: 32px;\n",
              "      padding: 0 0 0 0;\n",
              "      width: 32px;\n",
              "    }\n",
              "\n",
              "    .colab-df-convert:hover {\n",
              "      background-color: #E2EBFA;\n",
              "      box-shadow: 0px 1px 2px rgba(60, 64, 67, 0.3), 0px 1px 3px 1px rgba(60, 64, 67, 0.15);\n",
              "      fill: #174EA6;\n",
              "    }\n",
              "\n",
              "    [theme=dark] .colab-df-convert {\n",
              "      background-color: #3B4455;\n",
              "      fill: #D2E3FC;\n",
              "    }\n",
              "\n",
              "    [theme=dark] .colab-df-convert:hover {\n",
              "      background-color: #434B5C;\n",
              "      box-shadow: 0px 1px 3px 1px rgba(0, 0, 0, 0.15);\n",
              "      filter: drop-shadow(0px 1px 2px rgba(0, 0, 0, 0.3));\n",
              "      fill: #FFFFFF;\n",
              "    }\n",
              "  </style>\n",
              "\n",
              "      <script>\n",
              "        const buttonEl =\n",
              "          document.querySelector('#df-891aabfb-4ee0-4110-a6ae-00ba9a7f55d7 button.colab-df-convert');\n",
              "        buttonEl.style.display =\n",
              "          google.colab.kernel.accessAllowed ? 'block' : 'none';\n",
              "\n",
              "        async function convertToInteractive(key) {\n",
              "          const element = document.querySelector('#df-891aabfb-4ee0-4110-a6ae-00ba9a7f55d7');\n",
              "          const dataTable =\n",
              "            await google.colab.kernel.invokeFunction('convertToInteractive',\n",
              "                                                     [key], {});\n",
              "          if (!dataTable) return;\n",
              "\n",
              "          const docLinkHtml = 'Like what you see? Visit the ' +\n",
              "            '<a target=\"_blank\" href=https://colab.research.google.com/notebooks/data_table.ipynb>data table notebook</a>'\n",
              "            + ' to learn more about interactive tables.';\n",
              "          element.innerHTML = '';\n",
              "          dataTable['output_type'] = 'display_data';\n",
              "          await google.colab.output.renderOutput(dataTable, element);\n",
              "          const docLink = document.createElement('div');\n",
              "          docLink.innerHTML = docLinkHtml;\n",
              "          element.appendChild(docLink);\n",
              "        }\n",
              "      </script>\n",
              "    </div>\n",
              "  </div>\n",
              "  "
            ]
          },
          "metadata": {},
          "execution_count": 84
        }
      ]
    },
    {
      "cell_type": "markdown",
      "source": [
        "PCA"
      ],
      "metadata": {
        "id": "XJ2nD6AFvnXs"
      }
    },
    {
      "cell_type": "code",
      "source": [
        "from sklearn.decomposition import PCA\n",
        "pca = PCA(n_components=2)\n",
        "x_pca = pca.fit_transform(df_corr)\n",
        "\n",
        "print(pca.explained_variance_ratio_)"
      ],
      "metadata": {
        "colab": {
          "base_uri": "https://localhost:8080/"
        },
        "id": "s53_RBIIEoY7",
        "outputId": "f06af5f3-a409-451f-c5c9-735a85c5e707"
      },
      "execution_count": null,
      "outputs": [
        {
          "output_type": "stream",
          "name": "stdout",
          "text": [
            "[0.21582109 0.15350414]\n"
          ]
        }
      ]
    },
    {
      "cell_type": "code",
      "source": [
        "df_pca = pd.DataFrame(data = x_pca,\n",
        "                      index = ['B14.5','B15.5','B17.5','B20','B34','C14.5','C15.5','C17.5','C20','C34'],\n",
        "                      columns = ['pc_1', 'pc_2'])\n",
        "\n",
        "print(df_pca)"
      ],
      "metadata": {
        "colab": {
          "base_uri": "https://localhost:8080/"
        },
        "id": "NntK1LNNRZ7k",
        "outputId": "7d07b6bc-2243-40a1-eed2-3ee6c7f0ba71"
      },
      "execution_count": null,
      "outputs": [
        {
          "output_type": "stream",
          "name": "stdout",
          "text": [
            "           pc_1      pc_2\n",
            "B14.5 -0.030287  0.043662\n",
            "B15.5 -0.029303  0.045070\n",
            "B17.5 -0.031767  0.011738\n",
            "B20   -0.012501  0.006630\n",
            "B34    0.081659  0.033649\n",
            "C14.5 -0.011235 -0.019151\n",
            "C15.5 -0.030662 -0.044644\n",
            "C17.5  0.007693 -0.034314\n",
            "C20    0.002073 -0.025792\n",
            "C34    0.054332 -0.016849\n"
          ]
        }
      ]
    },
    {
      "cell_type": "code",
      "source": [
        "import seaborn as sns\n",
        "\n",
        "sns.scatterplot(data=df_pca, x='pc_1', y='pc_2', hue=df_pca.index)"
      ],
      "metadata": {
        "colab": {
          "base_uri": "https://localhost:8080/",
          "height": 297
        },
        "id": "oteMXU1gX6tw",
        "outputId": "8f616489-df95-4a52-ba67-c8d13593d1ed"
      },
      "execution_count": null,
      "outputs": [
        {
          "output_type": "execute_result",
          "data": {
            "text/plain": [
              "<matplotlib.axes._subplots.AxesSubplot at 0x7fdf0d091d90>"
            ]
          },
          "metadata": {},
          "execution_count": 87
        },
        {
          "output_type": "display_data",
          "data": {
            "text/plain": [
              "<Figure size 432x288 with 1 Axes>"
            ],
            "image/png": "[encoded data removed]"
          },
          "metadata": {
            "needs_background": "light"
          }
        }
      ]
    },
    {
      "cell_type": "markdown",
      "source": [
        "MDS"
      ],
      "metadata": {
        "id": "J8jb-PjkvqZO"
      }
    },
    {
      "cell_type": "code",
      "source": [
        "from sklearn.manifold import MDS\n",
        "mds = MDS(n_components=2)\n",
        "x_mds = mds.fit_transform(df_corr)\n",
        "\n",
        "df_mds = pd.DataFrame(data = x_mds,\n",
        "                      index = ['B14.5','B15.5','B17.5','B20','B34','C14.5','C15.5','C17.5','C20','C34'],\n",
        "                      columns = ['d_1', 'd_2'])\n",
        "\n",
        "print(df_mds)"
      ],
      "metadata": {
        "colab": {
          "base_uri": "https://localhost:8080/"
        },
        "id": "88AoNczKvmKx",
        "outputId": "fb801a59-09c1-4aa7-8fa1-02b9456359d6"
      },
      "execution_count": null,
      "outputs": [
        {
          "output_type": "stream",
          "name": "stdout",
          "text": [
            "            d_1       d_2\n",
            "B14.5 -0.063328 -0.023302\n",
            "B15.5 -0.040949  0.060827\n",
            "B17.5  0.004757  0.069508\n",
            "B20   -0.002238  0.014181\n",
            "B34    0.106004 -0.006948\n",
            "C14.5  0.051892  0.051582\n",
            "C15.5 -0.032649 -0.067856\n",
            "C17.5 -0.093542  0.020924\n",
            "C20    0.038608 -0.030731\n",
            "C34    0.031444 -0.088184\n"
          ]
        },
        {
          "output_type": "stream",
          "name": "stderr",
          "text": [
            "/usr/local/lib/python3.7/dist-packages/sklearn/manifold/_mds.py:518: UserWarning: The MDS API has changed. ``fit`` now constructs an dissimilarity matrix from data. To use a custom dissimilarity matrix, set ``dissimilarity='precomputed'``.\n",
            "  \"The MDS API has changed. ``fit`` now constructs an\"\n"
          ]
        }
      ]
    },
    {
      "cell_type": "code",
      "source": [
        "import seaborn as sns\n",
        "\n",
        "sns.scatterplot(data=df_mds, x='d_1', y='d_2', hue=df_mds.index)"
      ],
      "metadata": {
        "colab": {
          "base_uri": "https://localhost:8080/",
          "height": 297
        },
        "id": "xcpSbv_7xHF3",
        "outputId": "bd951015-a161-44b6-85e0-019156c67a49"
      },
      "execution_count": null,
      "outputs": [
        {
          "output_type": "execute_result",
          "data": {
            "text/plain": [
              "<matplotlib.axes._subplots.AxesSubplot at 0x7fdf0d05af50>"
            ]
          },
          "metadata": {},
          "execution_count": 93
        },
        {
          "output_type": "display_data",
          "data": {
            "text/plain": [
              "<Figure size 432x288 with 1 Axes>"
            ],
            "image/png": "[encoded data removed]"
          },
          "metadata": {
            "needs_background": "light"
          }
        }
      ]
    },
    {
      "cell_type": "markdown",
      "source": [
        "heatmap & clustermap"
      ],
      "metadata": {
        "id": "-APwmIyCvtdT"
      }
    },
    {
      "cell_type": "code",
      "source": [
        "sns.heatmap(data=df_corr)"
      ],
      "metadata": {
        "colab": {
          "base_uri": "https://localhost:8080/",
          "height": 384
        },
        "id": "sbS7T1QkqH3X",
        "outputId": "b777808d-07d5-4025-96e0-42d69402a132"
      },
      "execution_count": null,
      "outputs": [
        {
          "output_type": "execute_result",
          "data": {
            "text/plain": [
              "<matplotlib.axes._subplots.AxesSubplot at 0x7fdf0d050910>"
            ]
          },
          "metadata": {},
          "execution_count": 88
        },
        {
          "output_type": "display_data",
          "data": {
            "text/plain": [
              "<Figure size 432x288 with 2 Axes>"
            ],
            "image/png": "[encoded data removed]"
          },
          "metadata": {
            "needs_background": "light"
          }
        }
      ]
    },
    {
      "cell_type": "code",
      "source": [
        "sns.clustermap(data=df_corr)"
      ],
      "metadata": {
        "colab": {
          "base_uri": "https://localhost:8080/",
          "height": 747
        },
        "id": "ZilMVDirrU7U",
        "outputId": "ab070bc5-1534-4c79-948c-969f199a38f3"
      },
      "execution_count": null,
      "outputs": [
        {
          "output_type": "execute_result",
          "data": {
            "text/plain": [
              "<seaborn.matrix.ClusterGrid at 0x7fdf0d09d510>"
            ]
          },
          "metadata": {},
          "execution_count": 89
        },
        {
          "output_type": "display_data",
          "data": {
            "text/plain": [
              "<Figure size 720x720 with 4 Axes>"
            ],
            "image/png": "[encoded data removed]"
          },
          "metadata": {
            "needs_background": "light"
          }
        }
      ]
    }
  ]
}